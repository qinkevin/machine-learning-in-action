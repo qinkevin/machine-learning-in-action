{
 "cells": [
  {
   "cell_type": "code",
   "execution_count": 1,
   "metadata": {
    "collapsed": true
   },
   "outputs": [],
   "source": [
    "class treeNode:\n",
    "    def __init__(self,nameValue,numOccur,parentNode):\n",
    "        self.name=nameValue\n",
    "        self.count=numOccur\n",
    "        self.nodeLink=None\n",
    "        self.parent=parentNode\n",
    "        self.children={}\n",
    "    def inc(self,numOccur):\n",
    "        self.count+=numOccur\n",
    "    def disp(self,ind=1):\n",
    "        print ' '*ind,self.name, ' ',self.count\n",
    "        for child in self.children.values():\n",
    "            child.disp(ind+1)"
   ]
  },
  {
   "cell_type": "code",
   "execution_count": 2,
   "metadata": {
    "collapsed": true
   },
   "outputs": [],
   "source": [
    "def updateHeader(nodeToTest,targetNode):\n",
    "    while nodeToTest.nodeLink!=None:\n",
    "        nodeToTest=nodeToTest.nodeLink\n",
    "    nodeToTest.nodeLink=targetNode"
   ]
  },
  {
   "cell_type": "code",
   "execution_count": 3,
   "metadata": {
    "collapsed": true
   },
   "outputs": [],
   "source": [
    "def updateTree(items,inTree,headerTable,count):\n",
    "    if items[0] in inTree.children:\n",
    "        inTree.children[items[0]].inc(count)\n",
    "    else:\n",
    "        inTree.children[items[0]]=treeNode(items[0],count,inTree)\n",
    "        if headerTable[items[0]][1]==None:\n",
    "            headerTable[items[0]][1]=inTree.children[items[0]]\n",
    "        else:\n",
    "            updateHeader(headerTable[items[0]][1],inTree.children[items[0]])\n",
    "    if len(items)>1:\n",
    "        updateTree(items[1::],inTree.children[items[0]],headerTable,count)"
   ]
  },
  {
   "cell_type": "code",
   "execution_count": 40,
   "metadata": {
    "collapsed": true
   },
   "outputs": [],
   "source": [
    "def createTree(dataSet,minSup=1):\n",
    "    headerTable={}\n",
    "    for trans in dataSet:\n",
    "        for item in trans:\n",
    "            headerTable[item]=headerTable.get(item,0)+dataSet[trans]\n",
    "    for k in headerTable.keys():\n",
    "        if headerTable[k]<minSup:\n",
    "            del(headerTable[k])\n",
    "    freqItemSet=set(headerTable.keys())\n",
    "    if len(freqItemSet)==0:\n",
    "        return None,None\n",
    "    for k in headerTable:\n",
    "        headerTable[k]=[headerTable[k],None]\n",
    "    retTree=treeNode('Null Set',1,None)\n",
    "    for tranSet,count in dataSet.items():\n",
    "        localD={}\n",
    "        for item in tranSet:\n",
    "            if item in freqItemSet:\n",
    "                localD[item]=headerTable[item][0]\n",
    "        if len(localD)>0:\n",
    "            orderedItems=[v[0] for v in sorted(localD.items(),key=lambda p:p[1],reverse=True)]\n",
    "            updateTree(orderedItems,retTree,headerTable,count)\n",
    "    return retTree,headerTable"
   ]
  },
  {
   "cell_type": "code",
   "execution_count": 5,
   "metadata": {
    "collapsed": true
   },
   "outputs": [],
   "source": [
    "def loadSimpDat():\n",
    "    simpDat = [['r', 'z', 'h', 'j', 'p'],\n",
    "               ['z', 'y', 'x', 'w', 'v', 'u', 't', 's'],\n",
    "               ['z'],\n",
    "               ['r', 'x', 'n', 'o', 's'],\n",
    "               ['y', 'r', 'x', 'z', 'q', 't', 'p'],\n",
    "               ['y', 'z', 'x', 'e', 'q', 's', 't', 'm']]\n",
    "    return simpDat"
   ]
  },
  {
   "cell_type": "code",
   "execution_count": 6,
   "metadata": {
    "collapsed": true
   },
   "outputs": [],
   "source": [
    "def createInitSet(dataSet):\n",
    "    retDict={}\n",
    "    for trans in dataSet:\n",
    "        retDict[frozenset(trans)]=1\n",
    "    return retDict"
   ]
  },
  {
   "cell_type": "code",
   "execution_count": 7,
   "metadata": {
    "collapsed": false
   },
   "outputs": [],
   "source": [
    "simpDat=loadSimpDat()"
   ]
  },
  {
   "cell_type": "code",
   "execution_count": 8,
   "metadata": {
    "collapsed": false
   },
   "outputs": [],
   "source": [
    "initSet=createInitSet(simpDat)"
   ]
  },
  {
   "cell_type": "code",
   "execution_count": 9,
   "metadata": {
    "collapsed": false
   },
   "outputs": [],
   "source": [
    "myFPtree,myHeaderTab=createTree(initSet,3)"
   ]
  },
  {
   "cell_type": "code",
   "execution_count": 10,
   "metadata": {
    "collapsed": false
   },
   "outputs": [
    {
     "name": "stdout",
     "output_type": "stream",
     "text": [
      "  Null Set   1\n",
      "   x   1\n",
      "    s   1\n",
      "     r   1\n",
      "   z   5\n",
      "    x   3\n",
      "     y   3\n",
      "      s   2\n",
      "       t   2\n",
      "      r   1\n",
      "       t   1\n",
      "    r   1\n"
     ]
    }
   ],
   "source": [
    "myFPtree.disp()"
   ]
  },
  {
   "cell_type": "code",
   "execution_count": 11,
   "metadata": {
    "collapsed": true
   },
   "outputs": [],
   "source": [
    "def ascendTree(leafNode,prefixPath):\n",
    "    if leafNode.parent!=None:\n",
    "        prefixPath.append(leafNode.name)\n",
    "        ascendTree(leafNode.parent,prefixPath)"
   ]
  },
  {
   "cell_type": "code",
   "execution_count": 12,
   "metadata": {
    "collapsed": true
   },
   "outputs": [],
   "source": [
    "def findPrefixPath(basePat,treeNode):\n",
    "    condPats={}\n",
    "    while treeNode!=None:\n",
    "        prefixPath=[]\n",
    "        ascendTree(treeNode,prefixPath)\n",
    "        if len(prefixPath)>1:\n",
    "            condPats[frozenset(prefixPath[1:])]=treeNode.count\n",
    "        treeNode=treeNode.nodeLink\n",
    "    return condPats"
   ]
  },
  {
   "cell_type": "code",
   "execution_count": 13,
   "metadata": {
    "collapsed": false
   },
   "outputs": [
    {
     "data": {
      "text/plain": [
       "{'r': [3, <__main__.treeNode instance at 0x103dd6320>],\n",
       " 's': [3, <__main__.treeNode instance at 0x103dd6200>],\n",
       " 't': [3, <__main__.treeNode instance at 0x103dd6248>],\n",
       " 'x': [4, <__main__.treeNode instance at 0x103dd6170>],\n",
       " 'y': [3, <__main__.treeNode instance at 0x103dd61b8>],\n",
       " 'z': [5, <__main__.treeNode instance at 0x103dd6128>]}"
      ]
     },
     "execution_count": 13,
     "metadata": {},
     "output_type": "execute_result"
    }
   ],
   "source": [
    "myHeaderTab"
   ]
  },
  {
   "cell_type": "code",
   "execution_count": 16,
   "metadata": {
    "collapsed": false
   },
   "outputs": [
    {
     "data": {
      "text/plain": [
       "{frozenset({'z'}): 3}"
      ]
     },
     "execution_count": 16,
     "metadata": {},
     "output_type": "execute_result"
    }
   ],
   "source": [
    "findPrefixPath('x',myHeaderTab['x'][1])"
   ]
  },
  {
   "cell_type": "code",
   "execution_count": 19,
   "metadata": {
    "collapsed": false
   },
   "outputs": [
    {
     "data": {
      "text/plain": [
       "{}"
      ]
     },
     "execution_count": 19,
     "metadata": {},
     "output_type": "execute_result"
    }
   ],
   "source": [
    "findPrefixPath('z',myHeaderTab['z'][1])"
   ]
  },
  {
   "cell_type": "code",
   "execution_count": 23,
   "metadata": {
    "collapsed": false
   },
   "outputs": [
    {
     "data": {
      "text/plain": [
       "{frozenset({'s', 'x'}): 1, frozenset({'z'}): 1, frozenset({'x', 'y', 'z'}): 1}"
      ]
     },
     "execution_count": 23,
     "metadata": {},
     "output_type": "execute_result"
    }
   ],
   "source": [
    "findPrefixPath('r',myHeaderTab['r'][1])"
   ]
  },
  {
   "cell_type": "code",
   "execution_count": 29,
   "metadata": {
    "collapsed": true
   },
   "outputs": [],
   "source": [
    "def mineTree(inTree,headerTable,minSup,preFix,freqItemList):\n",
    "    bigL=[v[0] for v in sorted(headerTable.items(),key=lambda p:p[1])]\n",
    "    for basePat in bigL:\n",
    "        newFreqSet=preFix.copy()\n",
    "        newFreqSet.add(basePat)\n",
    "        freqItemList.append(newFreqSet)\n",
    "        condPattBases=findPrefixPath(basePat,headerTable[basePat][1])\n",
    "        myCondTree,myHead=createTree(condPattBases,minSup)\n",
    "        if myHead!=None:\n",
    "            print 'conditional tree for: ',newFreqSet\n",
    "            myCondTree.disp(1)\n",
    "            mineTree(myCondTree,myHead,minSup,newFreqSet,freqItemList)"
   ]
  },
  {
   "cell_type": "code",
   "execution_count": 30,
   "metadata": {
    "collapsed": true
   },
   "outputs": [],
   "source": [
    "freqItems=[]"
   ]
  },
  {
   "cell_type": "code",
   "execution_count": 31,
   "metadata": {
    "collapsed": false
   },
   "outputs": [
    {
     "name": "stdout",
     "output_type": "stream",
     "text": [
      "conditional tree for:  set(['y'])\n",
      "  Null Set   1\n",
      "   x   3\n",
      "    z   3\n",
      "conditional tree for:  set(['y', 'z'])\n",
      "  Null Set   1\n",
      "   x   3\n",
      "conditional tree for:  set(['s'])\n",
      "  Null Set   1\n",
      "   x   3\n",
      "conditional tree for:  set(['t'])\n",
      "  Null Set   1\n",
      "   y   3\n",
      "    x   3\n",
      "     z   3\n",
      "conditional tree for:  set(['x', 't'])\n",
      "  Null Set   1\n",
      "   y   3\n",
      "conditional tree for:  set(['z', 't'])\n",
      "  Null Set   1\n",
      "   y   3\n",
      "    x   3\n",
      "conditional tree for:  set(['x', 'z', 't'])\n",
      "  Null Set   1\n",
      "   y   3\n",
      "conditional tree for:  set(['x'])\n",
      "  Null Set   1\n",
      "   z   3\n"
     ]
    }
   ],
   "source": [
    "mineTree(myFPtree,myHeaderTab,3,set([]),freqItems)"
   ]
  },
  {
   "cell_type": "code",
   "execution_count": 32,
   "metadata": {
    "collapsed": false
   },
   "outputs": [
    {
     "data": {
      "text/plain": [
       "[{'y'},\n",
       " {'x', 'y'},\n",
       " {'y', 'z'},\n",
       " {'x', 'y', 'z'},\n",
       " {'s'},\n",
       " {'s', 'x'},\n",
       " {'t'},\n",
       " {'t', 'y'},\n",
       " {'t', 'x'},\n",
       " {'t', 'x', 'y'},\n",
       " {'t', 'z'},\n",
       " {'t', 'y', 'z'},\n",
       " {'t', 'x', 'z'},\n",
       " {'t', 'x', 'y', 'z'},\n",
       " {'r'},\n",
       " {'x'},\n",
       " {'x', 'z'},\n",
       " {'z'}]"
      ]
     },
     "execution_count": 32,
     "metadata": {},
     "output_type": "execute_result"
    }
   ],
   "source": [
    "freqItems"
   ]
  },
  {
   "cell_type": "code",
   "execution_count": 33,
   "metadata": {
    "collapsed": true
   },
   "outputs": [],
   "source": [
    "parsedDat=[line.split() for line in open('kosarak.dat').readlines()]"
   ]
  },
  {
   "cell_type": "code",
   "execution_count": 34,
   "metadata": {
    "collapsed": true
   },
   "outputs": [],
   "source": [
    "initSet=createInitSet(parsedDat)"
   ]
  },
  {
   "cell_type": "code",
   "execution_count": 35,
   "metadata": {
    "collapsed": true
   },
   "outputs": [],
   "source": [
    "myFPtree,myHeaderTab=createTree(initSet,100000)"
   ]
  },
  {
   "cell_type": "code",
   "execution_count": 36,
   "metadata": {
    "collapsed": true
   },
   "outputs": [],
   "source": [
    "myFreqList=[]"
   ]
  },
  {
   "cell_type": "code",
   "execution_count": 41,
   "metadata": {
    "collapsed": false
   },
   "outputs": [
    {
     "name": "stdout",
     "output_type": "stream",
     "text": [
      "conditional tree for:  set(['1'])\n",
      "  Null Set   1\n",
      "   6   123785\n",
      "conditional tree for:  set(['3'])\n",
      "  Null Set   1\n",
      "   11   11129\n",
      "   6   214487\n",
      "    11   135153\n",
      "conditional tree for:  set(['11', '3'])\n",
      "  Null Set   1\n",
      "   6   135153\n",
      "conditional tree for:  set(['11'])\n",
      "  Null Set   1\n",
      "   6   301164\n"
     ]
    }
   ],
   "source": [
    "mineTree(myFPtree,myHeaderTab,100000,set([]),myFreqList)"
   ]
  },
  {
   "cell_type": "code",
   "execution_count": 42,
   "metadata": {
    "collapsed": false
   },
   "outputs": [
    {
     "data": {
      "text/plain": [
       "[{'1'},\n",
       " {'1'},\n",
       " {'1', '6'},\n",
       " {'3'},\n",
       " {'11', '3'},\n",
       " {'11', '3', '6'},\n",
       " {'3', '6'},\n",
       " {'11'},\n",
       " {'11', '6'},\n",
       " {'6'}]"
      ]
     },
     "execution_count": 42,
     "metadata": {},
     "output_type": "execute_result"
    }
   ],
   "source": [
    "myFreqList"
   ]
  },
  {
   "cell_type": "code",
   "execution_count": null,
   "metadata": {
    "collapsed": true
   },
   "outputs": [],
   "source": []
  },
  {
   "cell_type": "code",
   "execution_count": null,
   "metadata": {
    "collapsed": true
   },
   "outputs": [],
   "source": []
  },
  {
   "cell_type": "code",
   "execution_count": null,
   "metadata": {
    "collapsed": true
   },
   "outputs": [],
   "source": []
  },
  {
   "cell_type": "code",
   "execution_count": null,
   "metadata": {
    "collapsed": true
   },
   "outputs": [],
   "source": []
  },
  {
   "cell_type": "code",
   "execution_count": null,
   "metadata": {
    "collapsed": true
   },
   "outputs": [],
   "source": []
  },
  {
   "cell_type": "code",
   "execution_count": null,
   "metadata": {
    "collapsed": true
   },
   "outputs": [],
   "source": []
  },
  {
   "cell_type": "code",
   "execution_count": null,
   "metadata": {
    "collapsed": true
   },
   "outputs": [],
   "source": []
  },
  {
   "cell_type": "code",
   "execution_count": null,
   "metadata": {
    "collapsed": true
   },
   "outputs": [],
   "source": []
  },
  {
   "cell_type": "code",
   "execution_count": null,
   "metadata": {
    "collapsed": true
   },
   "outputs": [],
   "source": []
  },
  {
   "cell_type": "code",
   "execution_count": null,
   "metadata": {
    "collapsed": true
   },
   "outputs": [],
   "source": []
  },
  {
   "cell_type": "code",
   "execution_count": null,
   "metadata": {
    "collapsed": true
   },
   "outputs": [],
   "source": []
  },
  {
   "cell_type": "code",
   "execution_count": null,
   "metadata": {
    "collapsed": true
   },
   "outputs": [],
   "source": []
  },
  {
   "cell_type": "code",
   "execution_count": null,
   "metadata": {
    "collapsed": true
   },
   "outputs": [],
   "source": []
  },
  {
   "cell_type": "code",
   "execution_count": null,
   "metadata": {
    "collapsed": true
   },
   "outputs": [],
   "source": []
  },
  {
   "cell_type": "code",
   "execution_count": null,
   "metadata": {
    "collapsed": true
   },
   "outputs": [],
   "source": []
  }
 ],
 "metadata": {
  "anaconda-cloud": {},
  "kernelspec": {
   "display_name": "Python [Root]",
   "language": "python",
   "name": "Python [Root]"
  },
  "language_info": {
   "codemirror_mode": {
    "name": "ipython",
    "version": 2
   },
   "file_extension": ".py",
   "mimetype": "text/x-python",
   "name": "python",
   "nbconvert_exporter": "python",
   "pygments_lexer": "ipython2",
   "version": "2.7.12"
  }
 },
 "nbformat": 4,
 "nbformat_minor": 0
}
