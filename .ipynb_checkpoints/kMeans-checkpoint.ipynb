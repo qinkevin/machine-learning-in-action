{
 "cells": [
  {
   "cell_type": "code",
   "execution_count": 1,
   "metadata": {
    "collapsed": true
   },
   "outputs": [],
   "source": [
    "from numpy import *"
   ]
  },
  {
   "cell_type": "code",
   "execution_count": 2,
   "metadata": {
    "collapsed": true
   },
   "outputs": [],
   "source": [
    "def loadDataSet(fileName):\n",
    "    dataMat=[]\n",
    "    fr=open(fileName)\n",
    "    for line in fr.readlines():\n",
    "        curLine=line.strip().split('\\t')\n",
    "        fltLine=map(float,curLine)\n",
    "        dataMat.append(fltLine)\n",
    "    return dataMat"
   ]
  },
  {
   "cell_type": "code",
   "execution_count": 3,
   "metadata": {
    "collapsed": true
   },
   "outputs": [],
   "source": [
    "def distEclud(vecA,vecB):\n",
    "    return sqrt(sum(power(vecA-vecB,2)))"
   ]
  },
  {
   "cell_type": "code",
   "execution_count": 4,
   "metadata": {
    "collapsed": true
   },
   "outputs": [],
   "source": [
    "def randCent(dataSet,k):#构造簇的中心点\n",
    "    n=shape(dataSet)[1]\n",
    "    centroids=mat(zeros((k,n)))\n",
    "    for j in range(n):\n",
    "        minJ=min(dataSet[:,j])\n",
    "        rangeJ=float(max(dataSet[:,j])-minJ)\n",
    "        centroids[:,j]=minJ+rangeJ*random.rand(k,1)\n",
    "    return centroids"
   ]
  },
  {
   "cell_type": "code",
   "execution_count": 5,
   "metadata": {
    "collapsed": false
   },
   "outputs": [],
   "source": [
    "datMat=mat(loadDataSet('testSet.txt'))"
   ]
  },
  {
   "cell_type": "code",
   "execution_count": 6,
   "metadata": {
    "collapsed": false
   },
   "outputs": [
    {
     "data": {
      "text/plain": [
       "matrix([[ 4.80924644, -3.41291183],\n",
       "        [ 4.38642443, -2.28664451]])"
      ]
     },
     "execution_count": 6,
     "metadata": {},
     "output_type": "execute_result"
    }
   ],
   "source": [
    "randCent(datMat,2)"
   ]
  },
  {
   "cell_type": "code",
   "execution_count": 7,
   "metadata": {
    "collapsed": false
   },
   "outputs": [
    {
     "data": {
      "text/plain": [
       "5.184632816681332"
      ]
     },
     "execution_count": 7,
     "metadata": {},
     "output_type": "execute_result"
    }
   ],
   "source": [
    "distEclud(datMat[0],datMat[1])"
   ]
  },
  {
   "cell_type": "code",
   "execution_count": 8,
   "metadata": {
    "collapsed": true
   },
   "outputs": [],
   "source": [
    "def kMeans(dataSet,k,distMeas=distEclud,createCent=randCent):\n",
    "    m=shape(dataSet)[0]\n",
    "    clusterAssment=mat(zeros((m,2)))#one column is for the index of the cluster and the second column is to store the error\n",
    "    centroids=createCent(dataSet,k)\n",
    "    clusterChanged=True\n",
    "    while clusterChanged:\n",
    "        clusterChanged=False\n",
    "        for i in range(m):#每一条数据\n",
    "            minDist=inf;minIndex=-1\n",
    "            for j in range(k):#该条数据与哪个簇最接近\n",
    "                distJI=distMeas(centroids[j,:],dataSet[i,:])\n",
    "                if distJI<minDist:\n",
    "                    minDist=distJI;minIndex=j\n",
    "            if clusterAssment[i,0]!=minIndex:#如果发生变化\n",
    "                clusterChanged=True\n",
    "            clusterAssment[i,:]=minIndex,minDist**2\n",
    "        print centroids\n",
    "        for cent in range(k):#更新簇中心\n",
    "            ptsInClust=dataSet[nonzero(clusterAssment[:,0].A==cent)[0]]\n",
    "            centroids[cent,:]=mean(ptsInClust,axis=0)\n",
    "    return centroids,clusterAssment\n",
    "    "
   ]
  },
  {
   "cell_type": "code",
   "execution_count": 9,
   "metadata": {
    "collapsed": false
   },
   "outputs": [
    {
     "name": "stdout",
     "output_type": "stream",
     "text": [
      "[[-0.51893452 -0.07613946]\n",
      " [-1.42409762  2.52611869]\n",
      " [ 0.41080311 -0.74569748]\n",
      " [-2.3380327   3.35818024]]\n",
      "[[-3.61853111 -2.81946867]\n",
      " [ 1.06671874  3.24734379]\n",
      " [ 2.63377259 -1.66601545]\n",
      " [-2.84303986  2.97924629]]\n",
      "[[-3.38237045 -2.9473363 ]\n",
      " [ 2.225975    3.17026943]\n",
      " [ 2.8692781  -2.54779119]\n",
      " [-2.64677572  2.78993217]]\n",
      "[[-3.38237045 -2.9473363 ]\n",
      " [ 2.6265299   3.10868015]\n",
      " [ 2.80293085 -2.7315146 ]\n",
      " [-2.46154315  2.78737555]]\n"
     ]
    }
   ],
   "source": [
    "myCentroids,clustAssing=kMeans(datMat,4)"
   ]
  },
  {
   "cell_type": "code",
   "execution_count": 14,
   "metadata": {
    "collapsed": true
   },
   "outputs": [],
   "source": [
    "def biKmeans(dataSet,k,distMeas=distEclud):\n",
    "    m=shape(dataSet)[0]\n",
    "    clusterAssment=mat(zeros((m,2)))\n",
    "    centroid0=mean(dataSet,axis=0).tolist()[0]\n",
    "    centList=[centroid0]\n",
    "    for j in range(m):\n",
    "        clusterAssment[j,1]=distMeas(mat(centroid0),dataSet[j,:])**2\n",
    "    while len(centList)<k:\n",
    "        lowestSSE=inf\n",
    "        for i in range(len(centList)):\n",
    "            ptsInCurrCluster=dataSet[nonzero(clusterAssment[:,0].A==i)[0],:]\n",
    "            centroidMat,splitClustAss=kMeans(ptsInCurrCluster,2,distMeas)\n",
    "            sseSplit=sum(splitClustAss[:,1])\n",
    "            sseNotSplit=sum(clusterAssment[nonzero(clusterAssment[:,0].A!=i)[0],1])\n",
    "            print \"sseSplit, and notSplit:\",sseSplit,sseNotSplit\n",
    "            if sseSplit+sseNotSplit<lowestSSE:#寻找最小SSE\n",
    "                bestCentToSplit=i\n",
    "                bestNewCents=centroidMat\n",
    "                bestClustAss=splitClustAss.copy()\n",
    "                lowestSSE=sseSplit+sseNotSplit\n",
    "        bestClustAss[nonzero(bestClustAss[:,0].A==1)[0],0]=len(centList)\n",
    "        bestClustAss[nonzero(bestClustAss[:,0].A==0)[0],0]=bestCentToSplit\n",
    "        print 'the bestCentToSplit is: ',bestCentToSplit\n",
    "        print 'the len of bestClustAss is:',len(bestClustAss)\n",
    "        centList[bestCentToSplit]=bestNewCents[0,:]\n",
    "        centList.append(bestNewCents[1,:])\n",
    "        clusterAssment[nonzero(clusterAssment[:,0].A==bestCentToSplit)[0],:]==bestClustAss\n",
    "    return mat(centList),clusterAssment\n",
    "        "
   ]
  },
  {
   "cell_type": "code",
   "execution_count": 15,
   "metadata": {
    "collapsed": false
   },
   "outputs": [],
   "source": [
    "datMat3=mat(loadDataSet('testSet2.txt'))"
   ]
  },
  {
   "cell_type": "code",
   "execution_count": 16,
   "metadata": {
    "collapsed": false
   },
   "outputs": [
    {
     "name": "stdout",
     "output_type": "stream",
     "text": [
      "[[ 1.33713864  4.5134537 ]\n",
      " [ 1.70470729  2.12928219]]\n",
      "[[-1.0607555   3.66998431]\n",
      " [ 0.53283171 -0.64411132]]\n",
      "[[-0.56567979  3.45481879]\n",
      " [ 0.37575954 -1.69015508]]\n",
      "[[-0.06953469  3.29844341]\n",
      " [-0.32150057 -2.62473743]]\n",
      "[[-0.00675605  3.22710297]\n",
      " [-0.45965615 -2.7782156 ]]\n",
      "sseSplit, and notSplit: 453.033489581 0.0\n",
      "the bestCentToSplit is:  0\n",
      "the len of bestClustAss is: 60\n",
      "[[ 2.81525456  0.86773386]\n",
      " [ 1.79639851 -2.97959567]]\n",
      "[[-0.00675605  3.22710297]\n",
      " [-0.45965615 -2.7782156 ]]\n",
      "sseSplit, and notSplit: 453.033489581 0.0\n"
     ]
    },
    {
     "ename": "ValueError",
     "evalue": "min() arg is an empty sequence",
     "output_type": "error",
     "traceback": [
      "\u001b[0;31m---------------------------------------------------------------------------\u001b[0m",
      "\u001b[0;31mValueError\u001b[0m                                Traceback (most recent call last)",
      "\u001b[0;32m<ipython-input-16-562e3b5d24a8>\u001b[0m in \u001b[0;36m<module>\u001b[0;34m()\u001b[0m\n\u001b[0;32m----> 1\u001b[0;31m \u001b[0mbiKmeans\u001b[0m\u001b[0;34m(\u001b[0m\u001b[0mdatMat3\u001b[0m\u001b[0;34m,\u001b[0m\u001b[0;36m3\u001b[0m\u001b[0;34m)\u001b[0m\u001b[0;34m\u001b[0m\u001b[0m\n\u001b[0m",
      "\u001b[0;32m<ipython-input-14-449a29a0997d>\u001b[0m in \u001b[0;36mbiKmeans\u001b[0;34m(dataSet, k, distMeas)\u001b[0m\n\u001b[1;32m     10\u001b[0m         \u001b[0;32mfor\u001b[0m \u001b[0mi\u001b[0m \u001b[0;32min\u001b[0m \u001b[0mrange\u001b[0m\u001b[0;34m(\u001b[0m\u001b[0mlen\u001b[0m\u001b[0;34m(\u001b[0m\u001b[0mcentList\u001b[0m\u001b[0;34m)\u001b[0m\u001b[0;34m)\u001b[0m\u001b[0;34m:\u001b[0m\u001b[0;34m\u001b[0m\u001b[0m\n\u001b[1;32m     11\u001b[0m             \u001b[0mptsInCurrCluster\u001b[0m\u001b[0;34m=\u001b[0m\u001b[0mdataSet\u001b[0m\u001b[0;34m[\u001b[0m\u001b[0mnonzero\u001b[0m\u001b[0;34m(\u001b[0m\u001b[0mclusterAssment\u001b[0m\u001b[0;34m[\u001b[0m\u001b[0;34m:\u001b[0m\u001b[0;34m,\u001b[0m\u001b[0;36m0\u001b[0m\u001b[0;34m]\u001b[0m\u001b[0;34m.\u001b[0m\u001b[0mA\u001b[0m\u001b[0;34m==\u001b[0m\u001b[0mi\u001b[0m\u001b[0;34m)\u001b[0m\u001b[0;34m[\u001b[0m\u001b[0;36m0\u001b[0m\u001b[0;34m]\u001b[0m\u001b[0;34m,\u001b[0m\u001b[0;34m:\u001b[0m\u001b[0;34m]\u001b[0m\u001b[0;34m\u001b[0m\u001b[0m\n\u001b[0;32m---> 12\u001b[0;31m             \u001b[0mcentroidMat\u001b[0m\u001b[0;34m,\u001b[0m\u001b[0msplitClustAss\u001b[0m\u001b[0;34m=\u001b[0m\u001b[0mkMeans\u001b[0m\u001b[0;34m(\u001b[0m\u001b[0mptsInCurrCluster\u001b[0m\u001b[0;34m,\u001b[0m\u001b[0;36m2\u001b[0m\u001b[0;34m,\u001b[0m\u001b[0mdistMeas\u001b[0m\u001b[0;34m)\u001b[0m\u001b[0;34m\u001b[0m\u001b[0m\n\u001b[0m\u001b[1;32m     13\u001b[0m             \u001b[0msseSplit\u001b[0m\u001b[0;34m=\u001b[0m\u001b[0msum\u001b[0m\u001b[0;34m(\u001b[0m\u001b[0msplitClustAss\u001b[0m\u001b[0;34m[\u001b[0m\u001b[0;34m:\u001b[0m\u001b[0;34m,\u001b[0m\u001b[0;36m1\u001b[0m\u001b[0;34m]\u001b[0m\u001b[0;34m)\u001b[0m\u001b[0;34m\u001b[0m\u001b[0m\n\u001b[1;32m     14\u001b[0m             \u001b[0msseNotSplit\u001b[0m\u001b[0;34m=\u001b[0m\u001b[0msum\u001b[0m\u001b[0;34m(\u001b[0m\u001b[0mclusterAssment\u001b[0m\u001b[0;34m[\u001b[0m\u001b[0mnonzero\u001b[0m\u001b[0;34m(\u001b[0m\u001b[0mclusterAssment\u001b[0m\u001b[0;34m[\u001b[0m\u001b[0;34m:\u001b[0m\u001b[0;34m,\u001b[0m\u001b[0;36m0\u001b[0m\u001b[0;34m]\u001b[0m\u001b[0;34m.\u001b[0m\u001b[0mA\u001b[0m\u001b[0;34m!=\u001b[0m\u001b[0mi\u001b[0m\u001b[0;34m)\u001b[0m\u001b[0;34m[\u001b[0m\u001b[0;36m0\u001b[0m\u001b[0;34m]\u001b[0m\u001b[0;34m,\u001b[0m\u001b[0;36m1\u001b[0m\u001b[0;34m]\u001b[0m\u001b[0;34m)\u001b[0m\u001b[0;34m\u001b[0m\u001b[0m\n",
      "\u001b[0;32m<ipython-input-8-a5c85ba5a055>\u001b[0m in \u001b[0;36mkMeans\u001b[0;34m(dataSet, k, distMeas, createCent)\u001b[0m\n\u001b[1;32m      2\u001b[0m     \u001b[0mm\u001b[0m\u001b[0;34m=\u001b[0m\u001b[0mshape\u001b[0m\u001b[0;34m(\u001b[0m\u001b[0mdataSet\u001b[0m\u001b[0;34m)\u001b[0m\u001b[0;34m[\u001b[0m\u001b[0;36m0\u001b[0m\u001b[0;34m]\u001b[0m\u001b[0;34m\u001b[0m\u001b[0m\n\u001b[1;32m      3\u001b[0m     \u001b[0mclusterAssment\u001b[0m\u001b[0;34m=\u001b[0m\u001b[0mmat\u001b[0m\u001b[0;34m(\u001b[0m\u001b[0mzeros\u001b[0m\u001b[0;34m(\u001b[0m\u001b[0;34m(\u001b[0m\u001b[0mm\u001b[0m\u001b[0;34m,\u001b[0m\u001b[0;36m2\u001b[0m\u001b[0;34m)\u001b[0m\u001b[0;34m)\u001b[0m\u001b[0;34m)\u001b[0m\u001b[0;31m#one column is for the index of the cluster and the second column is to store the error\u001b[0m\u001b[0;34m\u001b[0m\u001b[0m\n\u001b[0;32m----> 4\u001b[0;31m     \u001b[0mcentroids\u001b[0m\u001b[0;34m=\u001b[0m\u001b[0mcreateCent\u001b[0m\u001b[0;34m(\u001b[0m\u001b[0mdataSet\u001b[0m\u001b[0;34m,\u001b[0m\u001b[0mk\u001b[0m\u001b[0;34m)\u001b[0m\u001b[0;34m\u001b[0m\u001b[0m\n\u001b[0m\u001b[1;32m      5\u001b[0m     \u001b[0mclusterChanged\u001b[0m\u001b[0;34m=\u001b[0m\u001b[0mTrue\u001b[0m\u001b[0;34m\u001b[0m\u001b[0m\n\u001b[1;32m      6\u001b[0m     \u001b[0;32mwhile\u001b[0m \u001b[0mclusterChanged\u001b[0m\u001b[0;34m:\u001b[0m\u001b[0;34m\u001b[0m\u001b[0m\n",
      "\u001b[0;32m<ipython-input-4-9e586fc5ebd8>\u001b[0m in \u001b[0;36mrandCent\u001b[0;34m(dataSet, k)\u001b[0m\n\u001b[1;32m      3\u001b[0m     \u001b[0mcentroids\u001b[0m\u001b[0;34m=\u001b[0m\u001b[0mmat\u001b[0m\u001b[0;34m(\u001b[0m\u001b[0mzeros\u001b[0m\u001b[0;34m(\u001b[0m\u001b[0;34m(\u001b[0m\u001b[0mk\u001b[0m\u001b[0;34m,\u001b[0m\u001b[0mn\u001b[0m\u001b[0;34m)\u001b[0m\u001b[0;34m)\u001b[0m\u001b[0;34m)\u001b[0m\u001b[0;34m\u001b[0m\u001b[0m\n\u001b[1;32m      4\u001b[0m     \u001b[0;32mfor\u001b[0m \u001b[0mj\u001b[0m \u001b[0;32min\u001b[0m \u001b[0mrange\u001b[0m\u001b[0;34m(\u001b[0m\u001b[0mn\u001b[0m\u001b[0;34m)\u001b[0m\u001b[0;34m:\u001b[0m\u001b[0;34m\u001b[0m\u001b[0m\n\u001b[0;32m----> 5\u001b[0;31m         \u001b[0mminJ\u001b[0m\u001b[0;34m=\u001b[0m\u001b[0mmin\u001b[0m\u001b[0;34m(\u001b[0m\u001b[0mdataSet\u001b[0m\u001b[0;34m[\u001b[0m\u001b[0;34m:\u001b[0m\u001b[0;34m,\u001b[0m\u001b[0mj\u001b[0m\u001b[0;34m]\u001b[0m\u001b[0;34m)\u001b[0m\u001b[0;34m\u001b[0m\u001b[0m\n\u001b[0m\u001b[1;32m      6\u001b[0m         \u001b[0mrangeJ\u001b[0m\u001b[0;34m=\u001b[0m\u001b[0mfloat\u001b[0m\u001b[0;34m(\u001b[0m\u001b[0mmax\u001b[0m\u001b[0;34m(\u001b[0m\u001b[0mdataSet\u001b[0m\u001b[0;34m[\u001b[0m\u001b[0;34m:\u001b[0m\u001b[0;34m,\u001b[0m\u001b[0mj\u001b[0m\u001b[0;34m]\u001b[0m\u001b[0;34m)\u001b[0m\u001b[0;34m-\u001b[0m\u001b[0mminJ\u001b[0m\u001b[0;34m)\u001b[0m\u001b[0;34m\u001b[0m\u001b[0m\n\u001b[1;32m      7\u001b[0m         \u001b[0mcentroids\u001b[0m\u001b[0;34m[\u001b[0m\u001b[0;34m:\u001b[0m\u001b[0;34m,\u001b[0m\u001b[0mj\u001b[0m\u001b[0;34m]\u001b[0m\u001b[0;34m=\u001b[0m\u001b[0mminJ\u001b[0m\u001b[0;34m+\u001b[0m\u001b[0mrangeJ\u001b[0m\u001b[0;34m*\u001b[0m\u001b[0mrandom\u001b[0m\u001b[0;34m.\u001b[0m\u001b[0mrand\u001b[0m\u001b[0;34m(\u001b[0m\u001b[0mk\u001b[0m\u001b[0;34m,\u001b[0m\u001b[0;36m1\u001b[0m\u001b[0;34m)\u001b[0m\u001b[0;34m\u001b[0m\u001b[0m\n",
      "\u001b[0;31mValueError\u001b[0m: min() arg is an empty sequence"
     ]
    }
   ],
   "source": [
    "biKmeans(datMat3,3)"
   ]
  },
  {
   "cell_type": "code",
   "execution_count": null,
   "metadata": {
    "collapsed": true
   },
   "outputs": [],
   "source": [
    "def clusterClubs(numClust=5):\n",
    "    datList=[]\n",
    "    for line in open('places.txt').readlines():\n",
    "        lineArr=line.split('\\t')\n",
    "        datList.append([float(lineArr[4]),float(lineArr[3])])\n",
    "    datMat=mat(datList)\n",
    "    myCentroids,clustAssing=biKmeans(datMat,numClust,distMeas=distSLC)\n",
    "    "
   ]
  },
  {
   "cell_type": "code",
   "execution_count": null,
   "metadata": {
    "collapsed": true
   },
   "outputs": [],
   "source": []
  },
  {
   "cell_type": "code",
   "execution_count": null,
   "metadata": {
    "collapsed": true
   },
   "outputs": [],
   "source": []
  },
  {
   "cell_type": "code",
   "execution_count": null,
   "metadata": {
    "collapsed": true
   },
   "outputs": [],
   "source": []
  }
 ],
 "metadata": {
  "anaconda-cloud": {},
  "kernelspec": {
   "display_name": "Python [Root]",
   "language": "python",
   "name": "Python [Root]"
  },
  "language_info": {
   "codemirror_mode": {
    "name": "ipython",
    "version": 2
   },
   "file_extension": ".py",
   "mimetype": "text/x-python",
   "name": "python",
   "nbconvert_exporter": "python",
   "pygments_lexer": "ipython2",
   "version": "2.7.12"
  }
 },
 "nbformat": 4,
 "nbformat_minor": 0
}
