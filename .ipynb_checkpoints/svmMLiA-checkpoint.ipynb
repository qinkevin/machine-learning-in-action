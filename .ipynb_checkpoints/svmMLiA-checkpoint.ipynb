{
 "cells": [
  {
   "cell_type": "code",
   "execution_count": 1,
   "metadata": {
    "collapsed": true
   },
   "outputs": [],
   "source": [
    "import numpy\n",
    "from numpy import *"
   ]
  },
  {
   "cell_type": "code",
   "execution_count": 2,
   "metadata": {
    "collapsed": true
   },
   "outputs": [],
   "source": [
    "def loadDataSet(fileName):\n",
    "    dataMat=[];labelMat=[]\n",
    "    fr=open(fileName)\n",
    "    for line in fr.readlines():\n",
    "        lineArr=line.strip().split('\\t')\n",
    "        dataMat.append([float(lineArr[0]),float(lineArr[1])])\n",
    "        labelMat.append(float(lineArr[2]))\n",
    "    return dataMat,labelMat"
   ]
  },
  {
   "cell_type": "code",
   "execution_count": 3,
   "metadata": {
    "collapsed": true
   },
   "outputs": [],
   "source": [
    "def selectJrand(i,m):# i is the index of our first alpha,m is the total number of alphas\n",
    "    j=i\n",
    "    while(j==i):#A value is randomly chosen and returned as long as it's not equal to the input i\n",
    "        j=int(random.uniform(0,m))\n",
    "    return j"
   ]
  },
  {
   "cell_type": "code",
   "execution_count": 4,
   "metadata": {
    "collapsed": true
   },
   "outputs": [],
   "source": [
    "def clipAlpha(aj,H,L):#clips alpha values that are greater than H or less than L\n",
    "    if aj>H:\n",
    "        aj=H\n",
    "    if L>aj:\n",
    "        aj=L\n",
    "    return aj"
   ]
  },
  {
   "cell_type": "code",
   "execution_count": 5,
   "metadata": {
    "collapsed": true
   },
   "outputs": [],
   "source": [
    "def smoSimple(dataMatIn,classLabels,C,toler,maxIter):#the dataset, the class labels, a constant C, the tolerance,the maximum number of iterations\n",
    "    dataMatrix=mat(dataMatIn);labelMat=mat(classLabels).transpose()#This makes the row of the class labels correspond to the row of the data matrix\n",
    "    b=0;m,n=shape(dataMatrix)\n",
    "    alphas=mat(zeros((m,1)))\n",
    "    iter=0\n",
    "    while(iter<maxIter):\n",
    "        alphaPairsChanged=0#record if the attempt to optimize any alphas worked\n",
    "        for i in range(m):\n",
    "            fXi=float(multiply(alphas,labelMat).T*(dataMatrix*dataMatrix[i,:].T))+b#this is our prediction of the class\n",
    "            Ei=fXi-float(labelMat[i])\n",
    "            #Alphas will be clipped at 0 or C, so if they’re equal to these, they’re “bound” and can’t be increased or decreased, so it’s not worth trying to optimize these alphas.\n",
    "            if ((labelMat[i]*Ei<-toler) and (alphas[i]<C)) or ((labelMat[i]*Ei>toler) and (alphas[i]>0)):##若alphas[i]的误差很大,则对该数据实例对应的alpha值进行优化  \n",
    "                j=selectJrand(i,m)#选取与i不同的alpha值  \n",
    "                #计算样本j的预测类别 \n",
    "                fXj=float(multiply(alphas,labelMat).T*(dataMatrix*dataMatrix[j,:].T))+b\n",
    "                Ej=fXj-float(labelMat[j])\n",
    "                #由于python是通过引用的方式传递列表,故复制alphai\\j以备后面需要alpha旧值\n",
    "                alphaIold=alphas[i].copy()\n",
    "                alphaJold=alphas[j].copy()\n",
    "                #计算L和H,用于将alpha值调整到0-C之间 \n",
    "                if labelMat[i]!=labelMat[j]:\n",
    "                    L=max(0,alphas[j]-alphas[i])\n",
    "                    H=min(C,C+alphas[j]-alphas[i])\n",
    "                else:\n",
    "                    L=max(0,alphas[j]+alphas[i]-C)\n",
    "                    H=min(C,alphas[j]+alphas[i])\n",
    "                if L==H:\n",
    "                    print \"L==H\";continue\n",
    "                #Eta is the optimal amount to change alpha[j]\n",
    "                eta=2.0*dataMatrix[i,:]*dataMatrix[j,:].T-dataMatrix[i,:]*dataMatrix[i,:].T-dataMatrix[j,:]*dataMatrix[j,:].T\n",
    "                if eta>=0:\n",
    "                    print \"eta>=0\";continue\n",
    "                alphas[j]-=labelMat[j]*(Ei-Ej)/eta\n",
    "                alphas[j]=clipAlpha(alphas[j],H,L)\n",
    "                if(abs(alphas[j]-alphaJold)<0.00001):\n",
    "                    print \"j not moving enough\";continue\n",
    "                alphas[i]+=labelMat[j]*labelMat[i]*(alphaJold-alphas[j])\n",
    "                #set the constant term b for these two alphas\n",
    "                b1=b-Ei-labelMat[i]*(alphas[i]-alphaIold)*dataMatrix[i,:]*dataMatrix[i,:].T-labelMat[j]*(alphas[j]-alphaJold)*dataMatrix[i,:]*dataMatrix[j,:].T\n",
    "                b2=b-Ej-labelMat[i]*(alphas[i]-alphaIold)*dataMatrix[i,:]*dataMatrix[j,:].T-labelMat[j]*(alphas[j]-alphaJold)*dataMatrix[j,:]*dataMatrix[j,:].T\n",
    "                if 0<alphas[i] and C>alphas[i]:\n",
    "                    b=b1\n",
    "                elif 0<alphas[j] and C>alphas[j]:\n",
    "                    b=b2\n",
    "                else:\n",
    "                    b=(b1+b2)/2.0\n",
    "                alphaPairsChanged+=1\n",
    "                print \"iter: %d i: %d, pairs changed %d\" %(iter,i,alphaPairsChanged)\n",
    "            #check to see if any alphas have been updated; if so you set iter to 0 and continue\n",
    "            if alphaPairsChanged==0:\n",
    "                iter+=1\n",
    "            else:\n",
    "                iter=0\n",
    "            print \"iteration number:%d\"%iter\n",
    "        return b,alphas"
   ]
  },
  {
   "cell_type": "code",
   "execution_count": 7,
   "metadata": {
    "collapsed": true
   },
   "outputs": [],
   "source": [
    "class optStruct:\n",
    "    def __init__(self,dataMatIn,classLabels,C,toler):\n",
    "        self.X=dataMatIn\n",
    "        self.labelMat=classLabels\n",
    "        self.C=C\n",
    "        self.tol=toler\n",
    "        self.m=shape(dataMatIn)[0]\n",
    "        self.alphas=mat(zeros((self.m,1)))\n",
    "        self.b=0\n",
    "        #The first column is a flag bit stating whether the eCache is valid, and the second column is the actual E value\n",
    "        self.eCache=mat(zeros((self.m,2)))#Error cache"
   ]
  },
  {
   "cell_type": "code",
   "execution_count": 9,
   "metadata": {
    "collapsed": true
   },
   "outputs": [],
   "source": [
    "def calcEk(oS,k):#calculates an E value for a given alpha\n",
    "    fXk=float(multiply(oS.alphas,oS.labelMat).T*(oS.X*oS.X[k,:].T))+oS.b\n",
    "    Ek=fXk-float(oS.labelMat[k])\n",
    "    return Ek"
   ]
  },
  {
   "cell_type": "code",
   "execution_count": 11,
   "metadata": {
    "collapsed": true
   },
   "outputs": [],
   "source": [
    "def selectJ(i,oS,Ei):# selects the second alpha,so that we’ll take the maximum step during each optimization\n",
    "    maxK=-1;maxDeltaE=0;Ej=0\n",
    "    oS.eCache[i]=[1,Ei]#i为第一个alpha\n",
    "    validEcacheList=nonzero(oS.eCache[:,0].A)[0]#returns the alphas corresponding to non-zero E values\n",
    "    if len(validEcacheList)>1:#choose the value that gives you a max- imum change \n",
    "        for k in validEcacheList:\n",
    "            if k==i:\n",
    "                continue\n",
    "            Ek=calcEk(oS,k)\n",
    "            deltaE=abs(Ei-Ek)\n",
    "            if deltaE>maxDeltaE:\n",
    "                maxK=k;maxDeltaE=deltaE;Ej=Ek\n",
    "        return maxK,Ej\n",
    "    else:#If this is your first time through the loop, you randomly select an alpha\n",
    "        j=selectJrand(i,oS.m)\n",
    "        Ej=calcEk(oS,j)\n",
    "    return j,Ej"
   ]
  },
  {
   "cell_type": "code",
   "execution_count": 13,
   "metadata": {
    "collapsed": true
   },
   "outputs": [],
   "source": [
    "def updateEk(oS,k):#calculates the error and puts it in the cache\n",
    "    Ek=calcEk(oS,k)\n",
    "    oS.eCache[k]=[1,Ek]"
   ]
  },
  {
   "cell_type": "code",
   "execution_count": 16,
   "metadata": {
    "collapsed": true
   },
   "outputs": [],
   "source": [
    "def innerL(i,oS):\n",
    "    Ei=calcEk(oS,i)\n",
    "    if ((oS.labelMat[i]*Ei<-oS.tol) and (oS.alphas[i]<oS.C)) or ((oS.labelMat[i]>oS.tol) and (oS.alphas[i]>0)):\n",
    "        j,Ej=selectJ(i,oS,Ei)\n",
    "        alphaIold=oS.alphas[i].copy();alphaJold=oS.alphas[j].copy();\n",
    "        if oS.labelMat[i]!=oS.labelMat[j]:\n",
    "            L=max(0,oS.alphas[j]-oS.alphas[i])\n",
    "            H=min(oS.C,oS.C+oS.alphas[j]-oS.alphas[i])\n",
    "        else:\n",
    "            L=max(0,oS.alphas[j]+oS.alphas[i]-oS.C)\n",
    "            H=min(oS.C,oS.alphas[j]+oS.alphas[i])\n",
    "        if L==H:\n",
    "            print \"L==H\"; return 0\n",
    "        eta=2.0*oS.X[i,:]*oS.X[j,:].T-oS.X[i,:]*oS.X[i,:].T-oS.X[j,:]*oS.X[j,:].T\n",
    "        if eta>=0:\n",
    "            print \"eta>=0\";return 0\n",
    "        oS.alphas[j]-=oS.labelMat[j]*(Ei-Ej)/eta\n",
    "        oS.alphas[j]=clipAlpha(oS.alphas[j],H,L)\n",
    "        updateEk(oS,j)#Updates Ecache\n",
    "        if abs(oS.alphas[j]-alphaJold)<0.00001:\n",
    "            print \"j not moving enough\";return 0\n",
    "        oS.alphas[i]+=oS.labelMat[j]*oS.labelMat[i]*(alphaJold-oS.alphas[j])\n",
    "        updateEk(oS,i)#Updates Ecache\n",
    "        b1=oS.b-Ei-oS.labelMat[i]*(oS.alphas[i]-alphaIold)*oS.X[i,:]*oS.X[i,:].T-oS.labelMat[j]*(oS.alphas[j]-alphaJold)*oS.X[i,:]*oS.X[j,:].T\n",
    "        b2=oS.b-Ej-oS.labelMat[i]*(oS.alphas[i]-alphaIold)*oS.X[i,:]*oS.X[j,:].T-oS.labelMat[j]*(oS.alphas[j]-alphaJold)*oS.X[j,:]*oS.X[j,:].T\n",
    "        if 0<oS.alphas[i] and oS.C>oS.alphas[i]:\n",
    "            oS.b=b1\n",
    "        elif 0<oS.alphas[j] and oS.C>oS.alphas[j]:\n",
    "            oS.b=b2\n",
    "        else:\n",
    "            oS.b=(b1+b2)/2.0\n",
    "        return 1\n",
    "    else:\n",
    "        return 0"
   ]
  },
  {
   "cell_type": "code",
   "execution_count": 22,
   "metadata": {
    "collapsed": true
   },
   "outputs": [],
   "source": [
    "def smoP(dataMatIn,classLabels,C,toler,maxIter,kTup=('lin',0)):#This is the outer loop where you select the first alpha.\n",
    "    oS=optStruct(mat(dataMatIn),mat(classLabels).transpose(),C,toler)\n",
    "    iter=0;entireSet=True;alphaPairsChanged=0\n",
    "    #You’ll exit from the loop whenever the number of iterations exceeds your specified maximum or you pass through the entire set without changing any alpha pairs.\n",
    "    while (iter<maxIter) and ((alphaPairsChanged>0) or (entireSet)):\n",
    "        alphaPairsChanged=0\n",
    "        if entireSet:\n",
    "            for i in range(oS.m):#goes over any alphas in the dataset\n",
    "                alphaPairsChanged+=innerL(i,oS)#choose a second alpha and do optimization if possible. A 1 will be returned if any pairs get changed\n",
    "                print \"fullSet, iter: %d i:%d, pairs changed %d\"%(iter,i,alphaPairsChanged)\n",
    "            iter+=1\n",
    "        else:\n",
    "            nonBoundIs=nonzero((oS.alphas.A>0)*(oS.alphas.A<C))[0]\n",
    "            for i in nonBoundIs:#goes over all the non-bound alphas, the values that aren’t bound at 0 or C\n",
    "                alphaPairsChanged+=innerL(i,oS)\n",
    "                print \"non-bound,iter: %d i:%d,pairs changed %d\"%(iter,i,alphaPairsChanged)\n",
    "            iter+=1\n",
    "        if entireSet:\n",
    "            entireSet=False\n",
    "        elif alphaPairsChanged==0:\n",
    "            entireSet=True\n",
    "        print \"iteration number:%d\"%iter\n",
    "    return oS.b,oS.alphas"
   ]
  },
  {
   "cell_type": "code",
   "execution_count": 25,
   "metadata": {
    "collapsed": true
   },
   "outputs": [],
   "source": [
    "def calcWs(alphas,dataArr,classLabels):\n",
    "    X=mat(dataArr);labelMat=mat(classLabels).transpose()\n",
    "    m,n=shape(X)\n",
    "    w=zeros((n,1))\n",
    "    for i in range(m):\n",
    "        w+=multiply(alphas[i]*labelMat[i],X[i,:].T)\n",
    "    return w"
   ]
  },
  {
   "cell_type": "code",
   "execution_count": 26,
   "metadata": {
    "collapsed": true
   },
   "outputs": [],
   "source": [
    "dataArr,labelArr = loadDataSet('testSet.txt')"
   ]
  },
  {
   "cell_type": "code",
   "execution_count": 27,
   "metadata": {
    "collapsed": false
   },
   "outputs": [
    {
     "name": "stdout",
     "output_type": "stream",
     "text": [
      "L==H\n",
      "fullSet, iter: 0 i:0, pairs changed 0\n",
      "L==H\n",
      "fullSet, iter: 0 i:1, pairs changed 0\n",
      "fullSet, iter: 0 i:2, pairs changed 1\n",
      "L==H\n",
      "fullSet, iter: 0 i:3, pairs changed 1\n",
      "fullSet, iter: 0 i:4, pairs changed 2\n",
      "fullSet, iter: 0 i:5, pairs changed 2\n",
      "fullSet, iter: 0 i:6, pairs changed 2\n",
      "j not moving enough\n",
      "fullSet, iter: 0 i:7, pairs changed 2\n",
      "L==H\n",
      "fullSet, iter: 0 i:8, pairs changed 2\n",
      "fullSet, iter: 0 i:9, pairs changed 2\n",
      "L==H\n",
      "fullSet, iter: 0 i:10, pairs changed 2\n",
      "L==H\n",
      "fullSet, iter: 0 i:11, pairs changed 2\n",
      "L==H\n",
      "fullSet, iter: 0 i:12, pairs changed 2\n",
      "fullSet, iter: 0 i:13, pairs changed 2\n",
      "L==H\n",
      "fullSet, iter: 0 i:14, pairs changed 2\n",
      "fullSet, iter: 0 i:15, pairs changed 2\n",
      "fullSet, iter: 0 i:16, pairs changed 2\n",
      "L==H\n",
      "fullSet, iter: 0 i:17, pairs changed 2\n",
      "fullSet, iter: 0 i:18, pairs changed 3\n",
      "fullSet, iter: 0 i:19, pairs changed 3\n",
      "fullSet, iter: 0 i:20, pairs changed 3\n",
      "fullSet, iter: 0 i:21, pairs changed 3\n",
      "j not moving enough\n",
      "fullSet, iter: 0 i:22, pairs changed 3\n",
      "L==H\n",
      "fullSet, iter: 0 i:23, pairs changed 3\n",
      "L==H\n",
      "fullSet, iter: 0 i:24, pairs changed 3\n",
      "fullSet, iter: 0 i:25, pairs changed 4\n",
      "j not moving enough\n",
      "fullSet, iter: 0 i:26, pairs changed 4\n",
      "fullSet, iter: 0 i:27, pairs changed 4\n",
      "fullSet, iter: 0 i:28, pairs changed 4\n",
      "L==H\n",
      "fullSet, iter: 0 i:29, pairs changed 4\n",
      "fullSet, iter: 0 i:30, pairs changed 4\n",
      "fullSet, iter: 0 i:31, pairs changed 4\n",
      "fullSet, iter: 0 i:32, pairs changed 4\n",
      "fullSet, iter: 0 i:33, pairs changed 4\n",
      "fullSet, iter: 0 i:34, pairs changed 4\n",
      "fullSet, iter: 0 i:35, pairs changed 4\n",
      "fullSet, iter: 0 i:36, pairs changed 4\n",
      "fullSet, iter: 0 i:37, pairs changed 4\n",
      "fullSet, iter: 0 i:38, pairs changed 4\n",
      "fullSet, iter: 0 i:39, pairs changed 4\n",
      "fullSet, iter: 0 i:40, pairs changed 4\n",
      "fullSet, iter: 0 i:41, pairs changed 4\n",
      "fullSet, iter: 0 i:42, pairs changed 4\n",
      "fullSet, iter: 0 i:43, pairs changed 4\n",
      "fullSet, iter: 0 i:44, pairs changed 4\n",
      "fullSet, iter: 0 i:45, pairs changed 4\n",
      "fullSet, iter: 0 i:46, pairs changed 5\n",
      "fullSet, iter: 0 i:47, pairs changed 5\n",
      "fullSet, iter: 0 i:48, pairs changed 5\n",
      "fullSet, iter: 0 i:49, pairs changed 5\n",
      "fullSet, iter: 0 i:50, pairs changed 5\n",
      "fullSet, iter: 0 i:51, pairs changed 5\n",
      "L==H\n",
      "fullSet, iter: 0 i:52, pairs changed 5\n",
      "fullSet, iter: 0 i:53, pairs changed 5\n",
      "L==H\n",
      "fullSet, iter: 0 i:54, pairs changed 5\n",
      "L==H\n",
      "fullSet, iter: 0 i:55, pairs changed 5\n",
      "fullSet, iter: 0 i:56, pairs changed 5\n",
      "fullSet, iter: 0 i:57, pairs changed 5\n",
      "fullSet, iter: 0 i:58, pairs changed 5\n",
      "fullSet, iter: 0 i:59, pairs changed 5\n",
      "fullSet, iter: 0 i:60, pairs changed 5\n",
      "fullSet, iter: 0 i:61, pairs changed 5\n",
      "fullSet, iter: 0 i:62, pairs changed 5\n",
      "fullSet, iter: 0 i:63, pairs changed 5\n",
      "fullSet, iter: 0 i:64, pairs changed 5\n",
      "fullSet, iter: 0 i:65, pairs changed 5\n",
      "fullSet, iter: 0 i:66, pairs changed 5\n",
      "fullSet, iter: 0 i:67, pairs changed 5\n",
      "fullSet, iter: 0 i:68, pairs changed 5\n",
      "L==H\n",
      "fullSet, iter: 0 i:69, pairs changed 5\n",
      "fullSet, iter: 0 i:70, pairs changed 5\n",
      "fullSet, iter: 0 i:71, pairs changed 5\n",
      "fullSet, iter: 0 i:72, pairs changed 5\n",
      "fullSet, iter: 0 i:73, pairs changed 5\n",
      "fullSet, iter: 0 i:74, pairs changed 5\n",
      "fullSet, iter: 0 i:75, pairs changed 5\n",
      "fullSet, iter: 0 i:76, pairs changed 5\n",
      "fullSet, iter: 0 i:77, pairs changed 5\n",
      "fullSet, iter: 0 i:78, pairs changed 5\n",
      "fullSet, iter: 0 i:79, pairs changed 5\n",
      "fullSet, iter: 0 i:80, pairs changed 5\n",
      "fullSet, iter: 0 i:81, pairs changed 5\n",
      "fullSet, iter: 0 i:82, pairs changed 5\n",
      "fullSet, iter: 0 i:83, pairs changed 5\n",
      "fullSet, iter: 0 i:84, pairs changed 5\n",
      "fullSet, iter: 0 i:85, pairs changed 5\n",
      "fullSet, iter: 0 i:86, pairs changed 5\n",
      "fullSet, iter: 0 i:87, pairs changed 5\n",
      "fullSet, iter: 0 i:88, pairs changed 5\n",
      "fullSet, iter: 0 i:89, pairs changed 5\n",
      "fullSet, iter: 0 i:90, pairs changed 5\n",
      "fullSet, iter: 0 i:91, pairs changed 5\n",
      "fullSet, iter: 0 i:92, pairs changed 5\n",
      "fullSet, iter: 0 i:93, pairs changed 5\n",
      "fullSet, iter: 0 i:94, pairs changed 6\n",
      "fullSet, iter: 0 i:95, pairs changed 6\n",
      "fullSet, iter: 0 i:96, pairs changed 6\n",
      "j not moving enough\n",
      "fullSet, iter: 0 i:97, pairs changed 6\n",
      "fullSet, iter: 0 i:98, pairs changed 6\n",
      "fullSet, iter: 0 i:99, pairs changed 6\n",
      "iteration number:1\n",
      "j not moving enough\n",
      "non-bound,iter: 1 i:0,pairs changed 0\n",
      "non-bound,iter: 1 i:3,pairs changed 0\n",
      "j not moving enough\n",
      "non-bound,iter: 1 i:4,pairs changed 0\n",
      "j not moving enough\n",
      "non-bound,iter: 1 i:17,pairs changed 0\n",
      "j not moving enough\n",
      "non-bound,iter: 1 i:18,pairs changed 0\n",
      "j not moving enough\n",
      "non-bound,iter: 1 i:25,pairs changed 0\n",
      "j not moving enough\n",
      "non-bound,iter: 1 i:46,pairs changed 0\n",
      "j not moving enough\n",
      "non-bound,iter: 1 i:55,pairs changed 0\n",
      "non-bound,iter: 1 i:94,pairs changed 0\n",
      "iteration number:2\n",
      "j not moving enough\n",
      "fullSet, iter: 2 i:0, pairs changed 0\n",
      "fullSet, iter: 2 i:1, pairs changed 0\n",
      "fullSet, iter: 2 i:2, pairs changed 0\n",
      "fullSet, iter: 2 i:3, pairs changed 0\n",
      "j not moving enough\n",
      "fullSet, iter: 2 i:4, pairs changed 0\n",
      "fullSet, iter: 2 i:5, pairs changed 0\n",
      "fullSet, iter: 2 i:6, pairs changed 0\n",
      "fullSet, iter: 2 i:7, pairs changed 0\n",
      "j not moving enough\n",
      "fullSet, iter: 2 i:8, pairs changed 0\n",
      "fullSet, iter: 2 i:9, pairs changed 0\n",
      "j not moving enough\n",
      "fullSet, iter: 2 i:10, pairs changed 0\n",
      "fullSet, iter: 2 i:11, pairs changed 0\n",
      "fullSet, iter: 2 i:12, pairs changed 0\n",
      "fullSet, iter: 2 i:13, pairs changed 0\n",
      "fullSet, iter: 2 i:14, pairs changed 0\n",
      "fullSet, iter: 2 i:15, pairs changed 0\n",
      "fullSet, iter: 2 i:16, pairs changed 0\n",
      "j not moving enough\n",
      "fullSet, iter: 2 i:17, pairs changed 0\n",
      "j not moving enough\n",
      "fullSet, iter: 2 i:18, pairs changed 0\n",
      "fullSet, iter: 2 i:19, pairs changed 0\n",
      "fullSet, iter: 2 i:20, pairs changed 0\n",
      "fullSet, iter: 2 i:21, pairs changed 0\n",
      "fullSet, iter: 2 i:22, pairs changed 0\n",
      "L==H\n",
      "fullSet, iter: 2 i:23, pairs changed 0\n",
      "j not moving enough\n",
      "fullSet, iter: 2 i:24, pairs changed 0\n",
      "j not moving enough\n",
      "fullSet, iter: 2 i:25, pairs changed 0\n",
      "fullSet, iter: 2 i:26, pairs changed 0\n",
      "fullSet, iter: 2 i:27, pairs changed 0\n",
      "fullSet, iter: 2 i:28, pairs changed 0\n",
      "L==H\n",
      "fullSet, iter: 2 i:29, pairs changed 0\n",
      "j not moving enough\n",
      "fullSet, iter: 2 i:30, pairs changed 0\n",
      "fullSet, iter: 2 i:31, pairs changed 0\n",
      "fullSet, iter: 2 i:32, pairs changed 0\n",
      "fullSet, iter: 2 i:33, pairs changed 0\n",
      "fullSet, iter: 2 i:34, pairs changed 0\n",
      "fullSet, iter: 2 i:35, pairs changed 0\n",
      "fullSet, iter: 2 i:36, pairs changed 0\n",
      "fullSet, iter: 2 i:37, pairs changed 0\n",
      "fullSet, iter: 2 i:38, pairs changed 0\n",
      "fullSet, iter: 2 i:39, pairs changed 0\n",
      "fullSet, iter: 2 i:40, pairs changed 0\n",
      "fullSet, iter: 2 i:41, pairs changed 0\n",
      "fullSet, iter: 2 i:42, pairs changed 0\n",
      "fullSet, iter: 2 i:43, pairs changed 0\n",
      "fullSet, iter: 2 i:44, pairs changed 0\n",
      "fullSet, iter: 2 i:45, pairs changed 0\n",
      "j not moving enough\n",
      "fullSet, iter: 2 i:46, pairs changed 0\n",
      "fullSet, iter: 2 i:47, pairs changed 0\n",
      "fullSet, iter: 2 i:48, pairs changed 0\n",
      "fullSet, iter: 2 i:49, pairs changed 0\n",
      "fullSet, iter: 2 i:50, pairs changed 0\n",
      "fullSet, iter: 2 i:51, pairs changed 0\n",
      "L==H\n",
      "fullSet, iter: 2 i:52, pairs changed 0\n",
      "fullSet, iter: 2 i:53, pairs changed 0\n",
      "L==H\n",
      "fullSet, iter: 2 i:54, pairs changed 0\n",
      "j not moving enough\n",
      "fullSet, iter: 2 i:55, pairs changed 0\n",
      "fullSet, iter: 2 i:56, pairs changed 0\n",
      "fullSet, iter: 2 i:57, pairs changed 0\n",
      "fullSet, iter: 2 i:58, pairs changed 0\n",
      "fullSet, iter: 2 i:59, pairs changed 0\n",
      "fullSet, iter: 2 i:60, pairs changed 0\n",
      "fullSet, iter: 2 i:61, pairs changed 0\n",
      "fullSet, iter: 2 i:62, pairs changed 0\n",
      "fullSet, iter: 2 i:63, pairs changed 0\n",
      "fullSet, iter: 2 i:64, pairs changed 0\n",
      "fullSet, iter: 2 i:65, pairs changed 0\n",
      "fullSet, iter: 2 i:66, pairs changed 0\n",
      "fullSet, iter: 2 i:67, pairs changed 0\n",
      "fullSet, iter: 2 i:68, pairs changed 0\n",
      "fullSet, iter: 2 i:69, pairs changed 0\n",
      "fullSet, iter: 2 i:70, pairs changed 0\n",
      "fullSet, iter: 2 i:71, pairs changed 0\n",
      "fullSet, iter: 2 i:72, pairs changed 0\n",
      "fullSet, iter: 2 i:73, pairs changed 0\n",
      "fullSet, iter: 2 i:74, pairs changed 0\n",
      "fullSet, iter: 2 i:75, pairs changed 0\n",
      "fullSet, iter: 2 i:76, pairs changed 0\n",
      "fullSet, iter: 2 i:77, pairs changed 0\n",
      "fullSet, iter: 2 i:78, pairs changed 0\n",
      "fullSet, iter: 2 i:79, pairs changed 0\n",
      "fullSet, iter: 2 i:80, pairs changed 0\n",
      "fullSet, iter: 2 i:81, pairs changed 0\n",
      "fullSet, iter: 2 i:82, pairs changed 0\n",
      "fullSet, iter: 2 i:83, pairs changed 0\n",
      "fullSet, iter: 2 i:84, pairs changed 0\n",
      "fullSet, iter: 2 i:85, pairs changed 0\n",
      "fullSet, iter: 2 i:86, pairs changed 0\n",
      "fullSet, iter: 2 i:87, pairs changed 0\n",
      "fullSet, iter: 2 i:88, pairs changed 0\n",
      "fullSet, iter: 2 i:89, pairs changed 0\n",
      "fullSet, iter: 2 i:90, pairs changed 0\n",
      "fullSet, iter: 2 i:91, pairs changed 0\n",
      "fullSet, iter: 2 i:92, pairs changed 0\n",
      "fullSet, iter: 2 i:93, pairs changed 0\n",
      "fullSet, iter: 2 i:94, pairs changed 0\n",
      "fullSet, iter: 2 i:95, pairs changed 0\n",
      "fullSet, iter: 2 i:96, pairs changed 0\n",
      "j not moving enough\n",
      "fullSet, iter: 2 i:97, pairs changed 0\n",
      "fullSet, iter: 2 i:98, pairs changed 0\n",
      "fullSet, iter: 2 i:99, pairs changed 0\n",
      "iteration number:3\n"
     ]
    }
   ],
   "source": [
    "b,alphas = smoP(dataArr, labelArr, 0.6, 0.001, 40)"
   ]
  },
  {
   "cell_type": "code",
   "execution_count": 29,
   "metadata": {
    "collapsed": false
   },
   "outputs": [],
   "source": [
    "ws=calcWs(alphas,dataArr,labelArr)"
   ]
  },
  {
   "cell_type": "code",
   "execution_count": 30,
   "metadata": {
    "collapsed": true
   },
   "outputs": [],
   "source": [
    "datMat=mat(dataArr)"
   ]
  },
  {
   "cell_type": "code",
   "execution_count": 32,
   "metadata": {
    "collapsed": false
   },
   "outputs": [
    {
     "data": {
      "text/plain": [
       "matrix([[-0.92555695]])"
      ]
     },
     "execution_count": 32,
     "metadata": {},
     "output_type": "execute_result"
    }
   ],
   "source": [
    "datMat[0]*mat(ws)+b"
   ]
  },
  {
   "cell_type": "code",
   "execution_count": 33,
   "metadata": {
    "collapsed": false
   },
   "outputs": [
    {
     "data": {
      "text/plain": [
       "-1.0"
      ]
     },
     "execution_count": 33,
     "metadata": {},
     "output_type": "execute_result"
    }
   ],
   "source": [
    "labelArr[0]"
   ]
  },
  {
   "cell_type": "code",
   "execution_count": null,
   "metadata": {
    "collapsed": true
   },
   "outputs": [],
   "source": []
  },
  {
   "cell_type": "code",
   "execution_count": null,
   "metadata": {
    "collapsed": true
   },
   "outputs": [],
   "source": []
  },
  {
   "cell_type": "code",
   "execution_count": null,
   "metadata": {
    "collapsed": true
   },
   "outputs": [],
   "source": []
  },
  {
   "cell_type": "code",
   "execution_count": null,
   "metadata": {
    "collapsed": true
   },
   "outputs": [],
   "source": []
  },
  {
   "cell_type": "code",
   "execution_count": null,
   "metadata": {
    "collapsed": true
   },
   "outputs": [],
   "source": []
  }
 ],
 "metadata": {
  "anaconda-cloud": {},
  "kernelspec": {
   "display_name": "Python [Root]",
   "language": "python",
   "name": "Python [Root]"
  },
  "language_info": {
   "codemirror_mode": {
    "name": "ipython",
    "version": 2
   },
   "file_extension": ".py",
   "mimetype": "text/x-python",
   "name": "python",
   "nbconvert_exporter": "python",
   "pygments_lexer": "ipython2",
   "version": "2.7.12"
  }
 },
 "nbformat": 4,
 "nbformat_minor": 0
}
