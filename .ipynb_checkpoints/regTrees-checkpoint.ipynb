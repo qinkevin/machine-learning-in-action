{
 "cells": [
  {
   "cell_type": "code",
   "execution_count": 1,
   "metadata": {
    "collapsed": true
   },
   "outputs": [],
   "source": [
    "class treeNode():\n",
    "    def __init__(self,feat,val,right,left):\n",
    "        featureToSplitOn=feat\n",
    "        valueOfSplit=val\n",
    "        rightBranch=right\n",
    "        leftBranch=left"
   ]
  },
  {
   "cell_type": "code",
   "execution_count": 2,
   "metadata": {
    "collapsed": true
   },
   "outputs": [],
   "source": [
    "from numpy import *"
   ]
  },
  {
   "cell_type": "code",
   "execution_count": 3,
   "metadata": {
    "collapsed": true
   },
   "outputs": [],
   "source": [
    "def loadDataSet(fileName):\n",
    "    dataMat=[]\n",
    "    fr=open(fileName)\n",
    "    for line in fr.readlines():\n",
    "        curLine=line.strip().split('\\t')\n",
    "        fltLine=map(float,curLine)#map everything to float()\n",
    "        dataMat.append(fltLine)\n",
    "    return dataMat"
   ]
  },
  {
   "cell_type": "code",
   "execution_count": 4,
   "metadata": {
    "collapsed": true
   },
   "outputs": [],
   "source": [
    "def binSplitDataSet(dataSet,feature,value):# 根据feature的value，对dataSet进行划分\n",
    "    mat0=dataSet[nonzero(dataSet[:,feature]>value)[0],:][0]\n",
    "    mat1=dataSet[nonzero(dataSet[:,feature]<=value)[0],:][0]\n",
    "    return mat0,mat1"
   ]
  },
  {
   "cell_type": "code",
   "execution_count": 5,
   "metadata": {
    "collapsed": true
   },
   "outputs": [],
   "source": [
    "'''\n",
    "which generates the model for a leaf node. \n",
    "When chooseBestSplit() decides that you no longer should split the data, \n",
    "it will call regLeaf() to get a model for the leaf. \n",
    "The model in a regression tree is the mean value of the target variables.\n",
    "'''\n",
    "def regLeaf(dataSet):\n",
    "    return mean(dataSet[:,-1])"
   ]
  },
  {
   "cell_type": "code",
   "execution_count": 6,
   "metadata": {
    "collapsed": true
   },
   "outputs": [],
   "source": [
    "#This function returns the squared error of the target variables in a given dataset\n",
    "def regErr(dataSet):\n",
    "    return var(dataSet[:,-1])*shape(dataSet)[0]#方差乘以个数"
   ]
  },
  {
   "cell_type": "code",
   "execution_count": 7,
   "metadata": {
    "collapsed": true
   },
   "outputs": [],
   "source": [
    "def chooseBestSplit(dataSet,leafType=regLeaf,errType=regErr,ops=(1,4)):\n",
    "    #The variable tolS is a tolerance on the error reduction, and tolN is the minimum data instances to include in a split\n",
    "    tolS=ops[0];tolN=ops[1]\n",
    "    if len(set(dataSet[:,-1].T.tolist()[0]))==1:#check the number of unique values by creating a set from all the target variables\n",
    "        return None,leafType(dataSet)\n",
    "    m,n=shape(dataSet)\n",
    "    S=errType(dataSet)\n",
    "    bestS=inf;bestIndex=0;bestValue=0\n",
    "    for featIndex in range(n-1):\n",
    "        for splitVal in set(dataSet[:,featIndex]):\n",
    "            mat0,mat1=binSplitDataSet(dataSet,featIndex,splitVal)\n",
    "            if (shape(mat0)[0]<tolN) or (shape(mat1)[0]<tolN):\n",
    "                continue\n",
    "            newS=errType(mat0)+errType(mat1)\n",
    "            if newS<bestS:\n",
    "                bestIndex=featIndex\n",
    "                bestValue=splitVal\n",
    "                bestS=newS\n",
    "    if (S-bestS)<tolS:#Exit if low error reduction\n",
    "        return None,leafType(dataSet)\n",
    "    mat0,mat1=binSplitDataSet(dataSet,bestIndex,bestValue)\n",
    "    if (shape(mat0)[0]<tolN) or (shape(mat1)[0]<tolN):#Exit if split creates small dataset\n",
    "        return None,leafType(dataSet)\n",
    "    return bestIndex,bestValue"
   ]
  },
  {
   "cell_type": "code",
   "execution_count": 8,
   "metadata": {
    "collapsed": false
   },
   "outputs": [],
   "source": [
    "'''\n",
    "The argument leafType is the function used to create a leaf. \n",
    "The argument errType is a function used for measuring the error on the dataset. \n",
    "The last argument, ops, is a tuple of parameters for creating a tree.\n",
    "'''\n",
    "def createTree(dataSet,leafType=regLeaf,errType=regErr,ops=(1,4)):\n",
    "    feat,val=chooseBestSplit(dataSet,leafType,errType,ops)\n",
    "    if feat==None:\n",
    "        return val\n",
    "    retTree={}\n",
    "    retTree['spInd']=feat\n",
    "    retTree['spVal']=val\n",
    "    lSet,rSet=binSplitDataSet(dataSet,feat,val)\n",
    "    retTree['left']=createTree(lSet,leafType,errType,ops)\n",
    "    retTree['right']=createTree(rSet,leafType,errType,ops)\n",
    "    return retTree\n",
    "    "
   ]
  },
  {
   "cell_type": "code",
   "execution_count": 9,
   "metadata": {
    "collapsed": true
   },
   "outputs": [],
   "source": [
    "def isTree(obj):\n",
    "    return (type(obj).__name__=='dict')"
   ]
  },
  {
   "cell_type": "code",
   "execution_count": 10,
   "metadata": {
    "collapsed": true
   },
   "outputs": [],
   "source": [
    "def getMean(tree):\n",
    "    if isTree(tree['right']):\n",
    "        tree['right']=getMean(tree['right'])\n",
    "    if isTree(tree['left']):\n",
    "        tree['left']=getMean(tree['left'])\n",
    "    return (tree['left']+tree['right'])/2.0"
   ]
  },
  {
   "cell_type": "code",
   "execution_count": 11,
   "metadata": {
    "collapsed": true
   },
   "outputs": [],
   "source": [
    "def prune(tree,testDat):\n",
    "    if shape(testData)[0]==0:\n",
    "        return getMean(tree)\n",
    "    if (isTree(tree['right'])) or (isTree(tree['left'])):\n",
    "        lSet,rSet=binSplitDataSet(testData,tree['spInd'],tree['spVal'])\n",
    "    if isTree(tree['left']):\n",
    "        tree['left']=prune(tree['left'],lSet)\n",
    "    if isTree(tree['right']):\n",
    "        tree['right']=prune(tree['right'],rSet)\n",
    "    if not isTree(tree['left']) and not isTree(tree['right']):\n",
    "        lSet,rSet=binSplitDataSet(testData,tree['spInd'],tree['spVal'])\n",
    "        errorNoMerge=sum(power(lSet[:,-1]-tree['left'],2))+sum(power(rSet[:,-1]-tree['right'],2))\n",
    "        treeMean=(tree['left']+tree['right'])/2.0\n",
    "        errorMerge=sum(power(testData[:,-1]-treeMean,2))\n",
    "        if errorMerge<errorNoMerge:\n",
    "            print \"merging\"\n",
    "            return treeMean\n",
    "        else:\n",
    "            return tree\n",
    "    else:\n",
    "        return tree\n",
    "    "
   ]
  },
  {
   "cell_type": "code",
   "execution_count": 12,
   "metadata": {
    "collapsed": true
   },
   "outputs": [],
   "source": [
    "def linearSolve(dataSet):\n",
    "    m,n=shape(dataSet)\n",
    "    X=mat(ones((m,n)));Y=mat(ones((m,1)))\n",
    "    X[:,1:n]=dataSet[:,0:n-1];Y=dataSet[:,-1]\n",
    "    xTx=X.T*X\n",
    "    if linalg.det(xTx)==0.0:\n",
    "        raise NameError('This matrix is singular,cannot do inverse,try increading the second value of ops')\n",
    "    ws=xTx.T*(X.T*Y)\n",
    "    return ws,X,Y"
   ]
  },
  {
   "cell_type": "code",
   "execution_count": 13,
   "metadata": {
    "collapsed": true
   },
   "outputs": [],
   "source": [
    "def modeLeaf(dataSet):\n",
    "    ws,X,Y=linearSolve(dataSet)\n",
    "    return ws"
   ]
  },
  {
   "cell_type": "code",
   "execution_count": 14,
   "metadata": {
    "collapsed": true
   },
   "outputs": [],
   "source": [
    "def modelErr(dataSet):\n",
    "    ws,X,Y=linearSolve(dataSet)\n",
    "    yHat=X*ws\n",
    "    return sum(power(Y-yHat,2))"
   ]
  },
  {
   "cell_type": "code",
   "execution_count": 15,
   "metadata": {
    "collapsed": true
   },
   "outputs": [],
   "source": [
    "def regTreeEval(model,inDat):\n",
    "    return float(model)"
   ]
  },
  {
   "cell_type": "code",
   "execution_count": 16,
   "metadata": {
    "collapsed": true
   },
   "outputs": [],
   "source": [
    "def modelTreeEval(model,inDat):\n",
    "    n=shape(inDat)[1]\n",
    "    X=mat(ones((1,n+1)))\n",
    "    X[:,1:n+1]=inDat\n",
    "    return float(X*model)"
   ]
  },
  {
   "cell_type": "code",
   "execution_count": 17,
   "metadata": {
    "collapsed": true
   },
   "outputs": [],
   "source": [
    "def treeForeCast(tree,inData,modelEval=regTreeEval):\n",
    "    if not isTree(tree):\n",
    "        return modelEval(tree,inData)\n",
    "    if inData[tree['spInd']]>tree['spVal']:\n",
    "        if isTree[tree['left']]:\n",
    "            return treeForeCast(tree['left'],inData,modelEval)\n",
    "        else:\n",
    "            return modelEval(tree['left'],inData)\n",
    "    else:\n",
    "        if isTree(tree['right']):\n",
    "            return treeForeCast(tree['right'],inData,modelEval)\n",
    "        else:\n",
    "            return modelEval(tree['right'],inData)"
   ]
  },
  {
   "cell_type": "code",
   "execution_count": 18,
   "metadata": {
    "collapsed": true
   },
   "outputs": [],
   "source": [
    "def createForeCast(tree,testData,modelEval=regTreeEval):\n",
    "    m=len(testData)\n",
    "    yHat=mat((m,1))\n",
    "    for i in range(m):\n",
    "        yHat[i,0]=treeForeCast(tree,mat(testData[i]),modelEval)\n",
    "    return yHat"
   ]
  },
  {
   "cell_type": "code",
   "execution_count": null,
   "metadata": {
    "collapsed": true
   },
   "outputs": [],
   "source": []
  },
  {
   "cell_type": "code",
   "execution_count": null,
   "metadata": {
    "collapsed": true
   },
   "outputs": [],
   "source": []
  }
 ],
 "metadata": {
  "anaconda-cloud": {},
  "kernelspec": {
   "display_name": "Python [Root]",
   "language": "python",
   "name": "Python [Root]"
  },
  "language_info": {
   "codemirror_mode": {
    "name": "ipython",
    "version": 2
   },
   "file_extension": ".py",
   "mimetype": "text/x-python",
   "name": "python",
   "nbconvert_exporter": "python",
   "pygments_lexer": "ipython2",
   "version": "2.7.12"
  }
 },
 "nbformat": 4,
 "nbformat_minor": 0
}
