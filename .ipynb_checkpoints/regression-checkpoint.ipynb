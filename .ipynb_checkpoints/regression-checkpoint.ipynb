{
 "cells": [
  {
   "cell_type": "code",
   "execution_count": 1,
   "metadata": {
    "collapsed": false
   },
   "outputs": [],
   "source": [
    "from numpy import *\n",
    "import matplotlib.pyplot as plt\n",
    "%matplotlib inline"
   ]
  },
  {
   "cell_type": "code",
   "execution_count": 2,
   "metadata": {
    "collapsed": true
   },
   "outputs": [],
   "source": [
    "def loadDataSet(fileName):\n",
    "    numFeat=len(open(fileName).readline().split('\\t'))-1\n",
    "    dataMat=[];labelMat=[]\n",
    "    fr=open(fileName)\n",
    "    for line in fr.readlines():\n",
    "        lineArr=[]\n",
    "        curLine=line.strip().split('\\t')\n",
    "        for i in range(numFeat):\n",
    "            lineArr.append(float(curLine[i]))\n",
    "        dataMat.append(lineArr)\n",
    "        labelMat.append(float(curLine[-1]))\n",
    "    return dataMat,labelMat"
   ]
  },
  {
   "cell_type": "code",
   "execution_count": 3,
   "metadata": {
    "collapsed": true
   },
   "outputs": [],
   "source": [
    "def standRegres(xArr,yArr):\n",
    "    xMat=mat(xArr);yMat=mat(yArr).T\n",
    "    xTx=xMat.T*xMat\n",
    "    if linalg.det(xTx)==0.0:\n",
    "        print \"This matrix is singular,cannot do inverse\"\n",
    "        return\n",
    "    ws=xTx.I*(xMat.T*yMat)\n",
    "    return ws"
   ]
  },
  {
   "cell_type": "code",
   "execution_count": 4,
   "metadata": {
    "collapsed": true
   },
   "outputs": [],
   "source": [
    "xArr,yArr=loadDataSet('ex0.txt')"
   ]
  },
  {
   "cell_type": "code",
   "execution_count": 5,
   "metadata": {
    "collapsed": false
   },
   "outputs": [],
   "source": [
    "ws=standRegres(xArr,yArr)"
   ]
  },
  {
   "cell_type": "code",
   "execution_count": 6,
   "metadata": {
    "collapsed": true
   },
   "outputs": [],
   "source": [
    "xMat=mat(xArr)\n",
    "yMat=mat(yArr)"
   ]
  },
  {
   "cell_type": "code",
   "execution_count": 7,
   "metadata": {
    "collapsed": true
   },
   "outputs": [],
   "source": [
    "yHat=xMat*ws"
   ]
  },
  {
   "cell_type": "code",
   "execution_count": 8,
   "metadata": {
    "collapsed": false
   },
   "outputs": [
    {
     "data": {
      "text/plain": [
       "<matplotlib.figure.Figure at 0x10a33ef50>"
      ]
     },
     "metadata": {},
     "output_type": "display_data"
    }
   ],
   "source": [
    "fig=plt.figure()"
   ]
  },
  {
   "cell_type": "code",
   "execution_count": 9,
   "metadata": {
    "collapsed": true
   },
   "outputs": [],
   "source": [
    "ax=fig.add_subplot(111)"
   ]
  },
  {
   "cell_type": "code",
   "execution_count": 10,
   "metadata": {
    "collapsed": false
   },
   "outputs": [
    {
     "data": {
      "text/plain": [
       "<matplotlib.collections.PathCollection at 0x10d1a8e90>"
      ]
     },
     "execution_count": 10,
     "metadata": {},
     "output_type": "execute_result"
    }
   ],
   "source": [
    "ax.scatter(xMat[:,1].flatten().A[0],yMat.T[:,0].flatten().A[0])"
   ]
  },
  {
   "cell_type": "code",
   "execution_count": 11,
   "metadata": {
    "collapsed": true
   },
   "outputs": [],
   "source": [
    "xCopy=xMat.copy()"
   ]
  },
  {
   "cell_type": "code",
   "execution_count": 12,
   "metadata": {
    "collapsed": true
   },
   "outputs": [],
   "source": [
    "xCopy.sort(0)"
   ]
  },
  {
   "cell_type": "code",
   "execution_count": 13,
   "metadata": {
    "collapsed": true
   },
   "outputs": [],
   "source": [
    "yHat=xCopy*ws"
   ]
  },
  {
   "cell_type": "code",
   "execution_count": 14,
   "metadata": {
    "collapsed": false
   },
   "outputs": [
    {
     "data": {
      "text/plain": [
       "[<matplotlib.lines.Line2D at 0x10d1a8750>]"
      ]
     },
     "execution_count": 14,
     "metadata": {},
     "output_type": "execute_result"
    }
   ],
   "source": [
    "ax.plot(xCopy[:,1],yHat)"
   ]
  },
  {
   "cell_type": "code",
   "execution_count": 15,
   "metadata": {
    "collapsed": true
   },
   "outputs": [],
   "source": [
    "plt.show()"
   ]
  },
  {
   "cell_type": "code",
   "execution_count": 16,
   "metadata": {
    "collapsed": false
   },
   "outputs": [
    {
     "data": {
      "image/png": "[encoded data removed]",
      "text/plain": [
       "<matplotlib.figure.Figure at 0x10a33ef50>"
      ]
     },
     "execution_count": 16,
     "metadata": {},
     "output_type": "execute_result"
    }
   ],
   "source": [
    "fig"
   ]
  },
  {
   "cell_type": "code",
   "execution_count": 17,
   "metadata": {
    "collapsed": true
   },
   "outputs": [],
   "source": [
    "yHat=xMat*ws"
   ]
  },
  {
   "cell_type": "code",
   "execution_count": 18,
   "metadata": {
    "collapsed": false
   },
   "outputs": [
    {
     "data": {
      "text/plain": [
       "array([[ 1.        ,  0.98647356],\n",
       "       [ 0.98647356,  1.        ]])"
      ]
     },
     "execution_count": 18,
     "metadata": {},
     "output_type": "execute_result"
    }
   ],
   "source": [
    "corrcoef(yHat.T,yMat)"
   ]
  },
  {
   "cell_type": "code",
   "execution_count": 19,
   "metadata": {
    "collapsed": true
   },
   "outputs": [],
   "source": [
    "def lwlr(testPoint,xArr,yArr,k=1.0):\n",
    "    xMat=mat(xArr);yMat=mat(yArr).T\n",
    "    m=shape(xMat)[0]#数据个数\n",
    "    weights=mat(eye((m)))#对角矩阵\n",
    "    for j in range(m):\n",
    "        diffMat=testPoint-xMat[j,:]\n",
    "        weights[j,j]=exp(diffMat*diffMat.T/(-2.0*k**2))\n",
    "    xTx=xMat.T*(weights*xMat)\n",
    "    if linalg.det(xTx)==0.0:\n",
    "        print \"This matrix is singular,cannot do inverse\"\n",
    "        return\n",
    "    ws=xTx.I*(xMat.T*(weights*yMat))\n",
    "    return testPoint*ws"
   ]
  },
  {
   "cell_type": "code",
   "execution_count": 20,
   "metadata": {
    "collapsed": true
   },
   "outputs": [],
   "source": [
    "def lwlrTest(testArr,xArr,yArr,k=1.0):\n",
    "    m=shape(testArr)[0]\n",
    "    yHat=zeros(m)\n",
    "    for i in range(m):\n",
    "        yHat[i]=lwlr(testArr[i],xArr,yArr,k)#计算每一个点\n",
    "    return yHat"
   ]
  },
  {
   "cell_type": "code",
   "execution_count": 21,
   "metadata": {
    "collapsed": false
   },
   "outputs": [],
   "source": [
    "yHat=lwlrTest(xArr,xArr,yArr,0.003)"
   ]
  },
  {
   "cell_type": "code",
   "execution_count": 22,
   "metadata": {
    "collapsed": true
   },
   "outputs": [],
   "source": [
    "xMat=mat(xArr)"
   ]
  },
  {
   "cell_type": "code",
   "execution_count": 23,
   "metadata": {
    "collapsed": true
   },
   "outputs": [],
   "source": [
    "srtInd=xMat[:,1].argsort(0)"
   ]
  },
  {
   "cell_type": "code",
   "execution_count": 24,
   "metadata": {
    "collapsed": false
   },
   "outputs": [],
   "source": [
    "xSort=xMat[srtInd][:,0,:]"
   ]
  },
  {
   "cell_type": "code",
   "execution_count": 25,
   "metadata": {
    "collapsed": false
   },
   "outputs": [
    {
     "data": {
      "text/plain": [
       "<matplotlib.figure.Figure at 0x10a3575d0>"
      ]
     },
     "metadata": {},
     "output_type": "display_data"
    }
   ],
   "source": [
    "fig=plt.figure()"
   ]
  },
  {
   "cell_type": "code",
   "execution_count": 26,
   "metadata": {
    "collapsed": true
   },
   "outputs": [],
   "source": [
    "ax=fig.add_subplot(111)"
   ]
  },
  {
   "cell_type": "code",
   "execution_count": 27,
   "metadata": {
    "collapsed": false
   },
   "outputs": [
    {
     "data": {
      "text/plain": [
       "[<matplotlib.lines.Line2D at 0x10d765a10>]"
      ]
     },
     "execution_count": 27,
     "metadata": {},
     "output_type": "execute_result"
    }
   ],
   "source": [
    "ax.plot(xSort[:,1],yHat[srtInd])"
   ]
  },
  {
   "cell_type": "code",
   "execution_count": 28,
   "metadata": {
    "collapsed": false
   },
   "outputs": [
    {
     "data": {
      "text/plain": [
       "<matplotlib.collections.PathCollection at 0x10d770650>"
      ]
     },
     "execution_count": 28,
     "metadata": {},
     "output_type": "execute_result"
    }
   ],
   "source": [
    "ax.scatter(xMat[:,1].flatten().A[0],mat(yArr).T.flatten().A[0],s=2,c='red')"
   ]
  },
  {
   "cell_type": "code",
   "execution_count": 29,
   "metadata": {
    "collapsed": false
   },
   "outputs": [],
   "source": [
    "plt.show()"
   ]
  },
  {
   "cell_type": "code",
   "execution_count": 30,
   "metadata": {
    "collapsed": false
   },
   "outputs": [
    {
     "data": {
      "image/png": "[encoded data removed]",
      "text/plain": [
       "<matplotlib.figure.Figure at 0x10a3575d0>"
      ]
     },
     "execution_count": 30,
     "metadata": {},
     "output_type": "execute_result"
    }
   ],
   "source": [
    "fig"
   ]
  },
  {
   "cell_type": "code",
   "execution_count": 31,
   "metadata": {
    "collapsed": true
   },
   "outputs": [],
   "source": [
    "def rssError(yArr,yHatArr):\n",
    "    return ((yArr-yHatArr)**2).sum()"
   ]
  },
  {
   "cell_type": "code",
   "execution_count": 32,
   "metadata": {
    "collapsed": true
   },
   "outputs": [],
   "source": [
    "abX,abY=loadDataSet('abalone.txt')"
   ]
  },
  {
   "cell_type": "code",
   "execution_count": 33,
   "metadata": {
    "collapsed": true
   },
   "outputs": [],
   "source": [
    "yHat01=lwlrTest(abX[0:99],abX[0:99],abY[0:99],0.1)\n",
    "yHat1=lwlrTest(abX[0:99],abX[0:99],abY[0:99],1)\n",
    "yHat10=lwlrTest(abX[0:99],abX[0:99],abY[0:99],10)"
   ]
  },
  {
   "cell_type": "code",
   "execution_count": 34,
   "metadata": {
    "collapsed": false
   },
   "outputs": [
    {
     "data": {
      "text/plain": [
       "56.804197255610504"
      ]
     },
     "execution_count": 34,
     "metadata": {},
     "output_type": "execute_result"
    }
   ],
   "source": [
    "rssError(abY[0:99],yHat01.T)"
   ]
  },
  {
   "cell_type": "code",
   "execution_count": 35,
   "metadata": {
    "collapsed": true
   },
   "outputs": [],
   "source": [
    "yHat01=lwlrTest(abX[100:199],abX[0:99],abY[0:99],0.1)"
   ]
  },
  {
   "cell_type": "code",
   "execution_count": 36,
   "metadata": {
    "collapsed": false
   },
   "outputs": [
    {
     "data": {
      "text/plain": [
       "106085.42316793396"
      ]
     },
     "execution_count": 36,
     "metadata": {},
     "output_type": "execute_result"
    }
   ],
   "source": [
    "rssError(abY[100:199],yHat01.T)"
   ]
  },
  {
   "cell_type": "code",
   "execution_count": 37,
   "metadata": {
    "collapsed": true
   },
   "outputs": [],
   "source": [
    "ws=standRegres(abX[0:99],abY[0:99])"
   ]
  },
  {
   "cell_type": "code",
   "execution_count": 38,
   "metadata": {
    "collapsed": true
   },
   "outputs": [],
   "source": [
    "yHat=mat(abX[100:199])*ws"
   ]
  },
  {
   "cell_type": "code",
   "execution_count": 39,
   "metadata": {
    "collapsed": false
   },
   "outputs": [
    {
     "data": {
      "text/plain": [
       "518.63631532474687"
      ]
     },
     "execution_count": 39,
     "metadata": {},
     "output_type": "execute_result"
    }
   ],
   "source": [
    "rssError(abY[100:199],yHat.T.A)"
   ]
  },
  {
   "cell_type": "code",
   "execution_count": 40,
   "metadata": {
    "collapsed": true
   },
   "outputs": [],
   "source": [
    "def ridgeRegres(xMat,yMat,lam=0.2):\n",
    "    xTx=xMat.T*xMat\n",
    "    denom=xTx+eye(shape(xMat)[1])*lam\n",
    "    if linalg.det(denom)==0.0:\n",
    "        print \"This matrix is singular,cannot do inverse\"\n",
    "        return\n",
    "    ws=denom.I*(xMat.T*yMat)\n",
    "    return ws"
   ]
  },
  {
   "cell_type": "code",
   "execution_count": 41,
   "metadata": {
    "collapsed": true
   },
   "outputs": [],
   "source": [
    "def ridgeTest(xArr,yArr):\n",
    "    #对特征进行标准化，以给予相同的权重，无论单位如何\n",
    "    xMat=mat(xArr);yMat=mat(yArr).T\n",
    "    yMean=mean(yMat,0)\n",
    "    yMat=yMat-yMean\n",
    "    xMeans=mean(xMat,0)\n",
    "    xVar=var(xMat,0)\n",
    "    xMat=(xMat-xMeans)/xVar\n",
    "    numTestPts=30\n",
    "    wMat=zeros((numTestPts,shape(xMat)[1]))\n",
    "    for i in range(numTestPts):\n",
    "        ws=ridgeRegres(xMat,yMat,exp(i-10))\n",
    "        wMat[i,:]=ws.T\n",
    "    return wMat"
   ]
  },
  {
   "cell_type": "code",
   "execution_count": 42,
   "metadata": {
    "collapsed": false
   },
   "outputs": [],
   "source": [
    "ridgeWeights=ridgeTest(abX,abY)"
   ]
  },
  {
   "cell_type": "code",
   "execution_count": 43,
   "metadata": {
    "collapsed": false
   },
   "outputs": [
    {
     "data": {
      "text/plain": [
       "[<matplotlib.lines.Line2D at 0x10d82bf90>,\n",
       " <matplotlib.lines.Line2D at 0x10d2adcd0>,\n",
       " <matplotlib.lines.Line2D at 0x10d2ade10>,\n",
       " <matplotlib.lines.Line2D at 0x10d2ade90>,\n",
       " <matplotlib.lines.Line2D at 0x10a39ca50>,\n",
       " <matplotlib.lines.Line2D at 0x10a33e090>,\n",
       " <matplotlib.lines.Line2D at 0x10d77e710>,\n",
       " <matplotlib.lines.Line2D at 0x10d77e610>]"
      ]
     },
     "execution_count": 43,
     "metadata": {},
     "output_type": "execute_result"
    }
   ],
   "source": [
    "ax = fig.add_subplot(111)\n",
    "ax.plot(ridgeWeights)"
   ]
  },
  {
   "cell_type": "code",
   "execution_count": 44,
   "metadata": {
    "collapsed": false
   },
   "outputs": [
    {
     "data": {
      "image/png": "[encoded data removed]",
      "text/plain": [
       "<matplotlib.figure.Figure at 0x10a3575d0>"
      ]
     },
     "execution_count": 44,
     "metadata": {},
     "output_type": "execute_result"
    }
   ],
   "source": [
    "fig"
   ]
  },
  {
   "cell_type": "code",
   "execution_count": 45,
   "metadata": {
    "collapsed": true
   },
   "outputs": [],
   "source": [
    "def regularize(xMat):\n",
    "    inMat=xMat.copy()\n",
    "    inMeans=mean(inMat,0)\n",
    "    inVar=var(inMat,0)\n",
    "    inMat=(inMat-inMeans)/inVar\n",
    "    return inMat"
   ]
  },
  {
   "cell_type": "code",
   "execution_count": 46,
   "metadata": {
    "collapsed": true
   },
   "outputs": [],
   "source": [
    "def stageWise(xArr,yArr,eps=0.01,numIt=100):#eps, the step size to take at each iteration\n",
    "    xMat=mat(xArr);yMat=mat(yArr).T\n",
    "    yMean=mean(yMat,0)\n",
    "    yMat=yMat-yMean\n",
    "    xMat=regularize(xMat)\n",
    "    m,n=shape(xMat)\n",
    "    returnMat=zeros((numIt,n))\n",
    "    ws=zeros((n,1));wsTest=ws.copy();wsMax=ws.copy()\n",
    "    for i in range(numIt):\n",
    "        print ws.T\n",
    "        lowestError=inf\n",
    "        for j in range(n):\n",
    "            for sign in [-1,1]:#增加或者减少\n",
    "                wsTest=ws.copy()\n",
    "                wsTest[j]+=eps*sign\n",
    "                yTest=xMat*wsTest\n",
    "                rssE=rssError(yMat.A,yTest.A)#误差\n",
    "                if rssE<lowestError:#寻找最小误差\n",
    "                    lowestError=rssE\n",
    "                    wsMax=wsTest\n",
    "        ws=wsMax.copy()\n",
    "        returnMat[i,:]=ws.T\n",
    "    return returnMat"
   ]
  },
  {
   "cell_type": "code",
   "execution_count": 47,
   "metadata": {
    "collapsed": false
   },
   "outputs": [
    {
     "name": "stdout",
     "output_type": "stream",
     "text": [
      "[[ 0.  0.]]\n",
      "[[ 0.  0.]]\n",
      "[[ 0.  0.]]\n",
      "[[ 0.  0.]]\n",
      "[[ 0.  0.]]\n",
      "[[ 0.  0.]]\n",
      "[[ 0.  0.]]\n",
      "[[ 0.  0.]]\n",
      "[[ 0.  0.]]\n",
      "[[ 0.  0.]]\n",
      "[[ 0.  0.]]\n",
      "[[ 0.  0.]]\n",
      "[[ 0.  0.]]\n",
      "[[ 0.  0.]]\n",
      "[[ 0.  0.]]\n",
      "[[ 0.  0.]]\n",
      "[[ 0.  0.]]\n",
      "[[ 0.  0.]]\n",
      "[[ 0.  0.]]\n",
      "[[ 0.  0.]]\n",
      "[[ 0.  0.]]\n",
      "[[ 0.  0.]]\n",
      "[[ 0.  0.]]\n",
      "[[ 0.  0.]]\n",
      "[[ 0.  0.]]\n",
      "[[ 0.  0.]]\n",
      "[[ 0.  0.]]\n",
      "[[ 0.  0.]]\n",
      "[[ 0.  0.]]\n",
      "[[ 0.  0.]]\n",
      "[[ 0.  0.]]\n",
      "[[ 0.  0.]]\n",
      "[[ 0.  0.]]\n",
      "[[ 0.  0.]]\n",
      "[[ 0.  0.]]\n",
      "[[ 0.  0.]]\n",
      "[[ 0.  0.]]\n",
      "[[ 0.  0.]]\n",
      "[[ 0.  0.]]\n",
      "[[ 0.  0.]]\n",
      "[[ 0.  0.]]\n",
      "[[ 0.  0.]]\n",
      "[[ 0.  0.]]\n",
      "[[ 0.  0.]]\n",
      "[[ 0.  0.]]\n",
      "[[ 0.  0.]]\n",
      "[[ 0.  0.]]\n",
      "[[ 0.  0.]]\n",
      "[[ 0.  0.]]\n",
      "[[ 0.  0.]]\n",
      "[[ 0.  0.]]\n",
      "[[ 0.  0.]]\n",
      "[[ 0.  0.]]\n",
      "[[ 0.  0.]]\n",
      "[[ 0.  0.]]\n",
      "[[ 0.  0.]]\n",
      "[[ 0.  0.]]\n",
      "[[ 0.  0.]]\n",
      "[[ 0.  0.]]\n",
      "[[ 0.  0.]]\n",
      "[[ 0.  0.]]\n",
      "[[ 0.  0.]]\n",
      "[[ 0.  0.]]\n",
      "[[ 0.  0.]]\n",
      "[[ 0.  0.]]\n",
      "[[ 0.  0.]]\n",
      "[[ 0.  0.]]\n",
      "[[ 0.  0.]]\n",
      "[[ 0.  0.]]\n",
      "[[ 0.  0.]]\n",
      "[[ 0.  0.]]\n",
      "[[ 0.  0.]]\n",
      "[[ 0.  0.]]\n",
      "[[ 0.  0.]]\n",
      "[[ 0.  0.]]\n",
      "[[ 0.  0.]]\n",
      "[[ 0.  0.]]\n",
      "[[ 0.  0.]]\n",
      "[[ 0.  0.]]\n",
      "[[ 0.  0.]]\n",
      "[[ 0.  0.]]\n",
      "[[ 0.  0.]]\n",
      "[[ 0.  0.]]\n",
      "[[ 0.  0.]]\n",
      "[[ 0.  0.]]\n",
      "[[ 0.  0.]]\n",
      "[[ 0.  0.]]\n",
      "[[ 0.  0.]]\n",
      "[[ 0.  0.]]\n",
      "[[ 0.  0.]]\n",
      "[[ 0.  0.]]\n",
      "[[ 0.  0.]]\n",
      "[[ 0.  0.]]\n",
      "[[ 0.  0.]]\n",
      "[[ 0.  0.]]\n",
      "[[ 0.  0.]]\n",
      "[[ 0.  0.]]\n",
      "[[ 0.  0.]]\n",
      "[[ 0.  0.]]\n",
      "[[ 0.  0.]]\n",
      "[[ 0.  0.]]\n",
      "[[ 0.  0.]]\n",
      "[[ 0.  0.]]\n",
      "[[ 0.  0.]]\n",
      "[[ 0.  0.]]\n",
      "[[ 0.  0.]]\n",
      "[[ 0.  0.]]\n",
      "[[ 0.  0.]]\n",
      "[[ 0.  0.]]\n",
      "[[ 0.  0.]]\n",
      "[[ 0.  0.]]\n",
      "[[ 0.  0.]]\n",
      "[[ 0.  0.]]\n",
      "[[ 0.  0.]]\n",
      "[[ 0.  0.]]\n",
      "[[ 0.  0.]]\n",
      "[[ 0.  0.]]\n",
      "[[ 0.  0.]]\n",
      "[[ 0.  0.]]\n",
      "[[ 0.  0.]]\n",
      "[[ 0.  0.]]\n",
      "[[ 0.  0.]]\n",
      "[[ 0.  0.]]\n",
      "[[ 0.  0.]]\n",
      "[[ 0.  0.]]\n",
      "[[ 0.  0.]]\n",
      "[[ 0.  0.]]\n",
      "[[ 0.  0.]]\n",
      "[[ 0.  0.]]\n",
      "[[ 0.  0.]]\n",
      "[[ 0.  0.]]\n",
      "[[ 0.  0.]]\n",
      "[[ 0.  0.]]\n",
      "[[ 0.  0.]]\n",
      "[[ 0.  0.]]\n",
      "[[ 0.  0.]]\n",
      "[[ 0.  0.]]\n",
      "[[ 0.  0.]]\n",
      "[[ 0.  0.]]\n",
      "[[ 0.  0.]]\n",
      "[[ 0.  0.]]\n",
      "[[ 0.  0.]]\n",
      "[[ 0.  0.]]\n",
      "[[ 0.  0.]]\n",
      "[[ 0.  0.]]\n",
      "[[ 0.  0.]]\n",
      "[[ 0.  0.]]\n",
      "[[ 0.  0.]]\n",
      "[[ 0.  0.]]\n",
      "[[ 0.  0.]]\n",
      "[[ 0.  0.]]\n",
      "[[ 0.  0.]]\n",
      "[[ 0.  0.]]\n",
      "[[ 0.  0.]]\n",
      "[[ 0.  0.]]\n",
      "[[ 0.  0.]]\n",
      "[[ 0.  0.]]\n",
      "[[ 0.  0.]]\n",
      "[[ 0.  0.]]\n",
      "[[ 0.  0.]]\n",
      "[[ 0.  0.]]\n",
      "[[ 0.  0.]]\n",
      "[[ 0.  0.]]\n",
      "[[ 0.  0.]]\n",
      "[[ 0.  0.]]\n",
      "[[ 0.  0.]]\n",
      "[[ 0.  0.]]\n",
      "[[ 0.  0.]]\n",
      "[[ 0.  0.]]\n",
      "[[ 0.  0.]]\n",
      "[[ 0.  0.]]\n",
      "[[ 0.  0.]]\n",
      "[[ 0.  0.]]\n",
      "[[ 0.  0.]]\n",
      "[[ 0.  0.]]\n",
      "[[ 0.  0.]]\n",
      "[[ 0.  0.]]\n",
      "[[ 0.  0.]]\n",
      "[[ 0.  0.]]\n",
      "[[ 0.  0.]]\n",
      "[[ 0.  0.]]\n",
      "[[ 0.  0.]]\n",
      "[[ 0.  0.]]\n",
      "[[ 0.  0.]]\n",
      "[[ 0.  0.]]\n",
      "[[ 0.  0.]]\n",
      "[[ 0.  0.]]\n",
      "[[ 0.  0.]]\n",
      "[[ 0.  0.]]\n",
      "[[ 0.  0.]]\n",
      "[[ 0.  0.]]\n",
      "[[ 0.  0.]]\n",
      "[[ 0.  0.]]\n",
      "[[ 0.  0.]]\n",
      "[[ 0.  0.]]\n",
      "[[ 0.  0.]]\n",
      "[[ 0.  0.]]\n",
      "[[ 0.  0.]]\n",
      "[[ 0.  0.]]\n",
      "[[ 0.  0.]]\n"
     ]
    },
    {
     "name": "stderr",
     "output_type": "stream",
     "text": [
      "/anaconda/lib/python2.7/site-packages/ipykernel/__main__.py:5: RuntimeWarning: invalid value encountered in divide\n"
     ]
    },
    {
     "data": {
      "text/plain": [
       "array([[ 0.,  0.],\n",
       "       [ 0.,  0.],\n",
       "       [ 0.,  0.],\n",
       "       [ 0.,  0.],\n",
       "       [ 0.,  0.],\n",
       "       [ 0.,  0.],\n",
       "       [ 0.,  0.],\n",
       "       [ 0.,  0.],\n",
       "       [ 0.,  0.],\n",
       "       [ 0.,  0.],\n",
       "       [ 0.,  0.],\n",
       "       [ 0.,  0.],\n",
       "       [ 0.,  0.],\n",
       "       [ 0.,  0.],\n",
       "       [ 0.,  0.],\n",
       "       [ 0.,  0.],\n",
       "       [ 0.,  0.],\n",
       "       [ 0.,  0.],\n",
       "       [ 0.,  0.],\n",
       "       [ 0.,  0.],\n",
       "       [ 0.,  0.],\n",
       "       [ 0.,  0.],\n",
       "       [ 0.,  0.],\n",
       "       [ 0.,  0.],\n",
       "       [ 0.,  0.],\n",
       "       [ 0.,  0.],\n",
       "       [ 0.,  0.],\n",
       "       [ 0.,  0.],\n",
       "       [ 0.,  0.],\n",
       "       [ 0.,  0.],\n",
       "       [ 0.,  0.],\n",
       "       [ 0.,  0.],\n",
       "       [ 0.,  0.],\n",
       "       [ 0.,  0.],\n",
       "       [ 0.,  0.],\n",
       "       [ 0.,  0.],\n",
       "       [ 0.,  0.],\n",
       "       [ 0.,  0.],\n",
       "       [ 0.,  0.],\n",
       "       [ 0.,  0.],\n",
       "       [ 0.,  0.],\n",
       "       [ 0.,  0.],\n",
       "       [ 0.,  0.],\n",
       "       [ 0.,  0.],\n",
       "       [ 0.,  0.],\n",
       "       [ 0.,  0.],\n",
       "       [ 0.,  0.],\n",
       "       [ 0.,  0.],\n",
       "       [ 0.,  0.],\n",
       "       [ 0.,  0.],\n",
       "       [ 0.,  0.],\n",
       "       [ 0.,  0.],\n",
       "       [ 0.,  0.],\n",
       "       [ 0.,  0.],\n",
       "       [ 0.,  0.],\n",
       "       [ 0.,  0.],\n",
       "       [ 0.,  0.],\n",
       "       [ 0.,  0.],\n",
       "       [ 0.,  0.],\n",
       "       [ 0.,  0.],\n",
       "       [ 0.,  0.],\n",
       "       [ 0.,  0.],\n",
       "       [ 0.,  0.],\n",
       "       [ 0.,  0.],\n",
       "       [ 0.,  0.],\n",
       "       [ 0.,  0.],\n",
       "       [ 0.,  0.],\n",
       "       [ 0.,  0.],\n",
       "       [ 0.,  0.],\n",
       "       [ 0.,  0.],\n",
       "       [ 0.,  0.],\n",
       "       [ 0.,  0.],\n",
       "       [ 0.,  0.],\n",
       "       [ 0.,  0.],\n",
       "       [ 0.,  0.],\n",
       "       [ 0.,  0.],\n",
       "       [ 0.,  0.],\n",
       "       [ 0.,  0.],\n",
       "       [ 0.,  0.],\n",
       "       [ 0.,  0.],\n",
       "       [ 0.,  0.],\n",
       "       [ 0.,  0.],\n",
       "       [ 0.,  0.],\n",
       "       [ 0.,  0.],\n",
       "       [ 0.,  0.],\n",
       "       [ 0.,  0.],\n",
       "       [ 0.,  0.],\n",
       "       [ 0.,  0.],\n",
       "       [ 0.,  0.],\n",
       "       [ 0.,  0.],\n",
       "       [ 0.,  0.],\n",
       "       [ 0.,  0.],\n",
       "       [ 0.,  0.],\n",
       "       [ 0.,  0.],\n",
       "       [ 0.,  0.],\n",
       "       [ 0.,  0.],\n",
       "       [ 0.,  0.],\n",
       "       [ 0.,  0.],\n",
       "       [ 0.,  0.],\n",
       "       [ 0.,  0.],\n",
       "       [ 0.,  0.],\n",
       "       [ 0.,  0.],\n",
       "       [ 0.,  0.],\n",
       "       [ 0.,  0.],\n",
       "       [ 0.,  0.],\n",
       "       [ 0.,  0.],\n",
       "       [ 0.,  0.],\n",
       "       [ 0.,  0.],\n",
       "       [ 0.,  0.],\n",
       "       [ 0.,  0.],\n",
       "       [ 0.,  0.],\n",
       "       [ 0.,  0.],\n",
       "       [ 0.,  0.],\n",
       "       [ 0.,  0.],\n",
       "       [ 0.,  0.],\n",
       "       [ 0.,  0.],\n",
       "       [ 0.,  0.],\n",
       "       [ 0.,  0.],\n",
       "       [ 0.,  0.],\n",
       "       [ 0.,  0.],\n",
       "       [ 0.,  0.],\n",
       "       [ 0.,  0.],\n",
       "       [ 0.,  0.],\n",
       "       [ 0.,  0.],\n",
       "       [ 0.,  0.],\n",
       "       [ 0.,  0.],\n",
       "       [ 0.,  0.],\n",
       "       [ 0.,  0.],\n",
       "       [ 0.,  0.],\n",
       "       [ 0.,  0.],\n",
       "       [ 0.,  0.],\n",
       "       [ 0.,  0.],\n",
       "       [ 0.,  0.],\n",
       "       [ 0.,  0.],\n",
       "       [ 0.,  0.],\n",
       "       [ 0.,  0.],\n",
       "       [ 0.,  0.],\n",
       "       [ 0.,  0.],\n",
       "       [ 0.,  0.],\n",
       "       [ 0.,  0.],\n",
       "       [ 0.,  0.],\n",
       "       [ 0.,  0.],\n",
       "       [ 0.,  0.],\n",
       "       [ 0.,  0.],\n",
       "       [ 0.,  0.],\n",
       "       [ 0.,  0.],\n",
       "       [ 0.,  0.],\n",
       "       [ 0.,  0.],\n",
       "       [ 0.,  0.],\n",
       "       [ 0.,  0.],\n",
       "       [ 0.,  0.],\n",
       "       [ 0.,  0.],\n",
       "       [ 0.,  0.],\n",
       "       [ 0.,  0.],\n",
       "       [ 0.,  0.],\n",
       "       [ 0.,  0.],\n",
       "       [ 0.,  0.],\n",
       "       [ 0.,  0.],\n",
       "       [ 0.,  0.],\n",
       "       [ 0.,  0.],\n",
       "       [ 0.,  0.],\n",
       "       [ 0.,  0.],\n",
       "       [ 0.,  0.],\n",
       "       [ 0.,  0.],\n",
       "       [ 0.,  0.],\n",
       "       [ 0.,  0.],\n",
       "       [ 0.,  0.],\n",
       "       [ 0.,  0.],\n",
       "       [ 0.,  0.],\n",
       "       [ 0.,  0.],\n",
       "       [ 0.,  0.],\n",
       "       [ 0.,  0.],\n",
       "       [ 0.,  0.],\n",
       "       [ 0.,  0.],\n",
       "       [ 0.,  0.],\n",
       "       [ 0.,  0.],\n",
       "       [ 0.,  0.],\n",
       "       [ 0.,  0.],\n",
       "       [ 0.,  0.],\n",
       "       [ 0.,  0.],\n",
       "       [ 0.,  0.],\n",
       "       [ 0.,  0.],\n",
       "       [ 0.,  0.],\n",
       "       [ 0.,  0.],\n",
       "       [ 0.,  0.],\n",
       "       [ 0.,  0.],\n",
       "       [ 0.,  0.],\n",
       "       [ 0.,  0.],\n",
       "       [ 0.,  0.],\n",
       "       [ 0.,  0.],\n",
       "       [ 0.,  0.],\n",
       "       [ 0.,  0.],\n",
       "       [ 0.,  0.],\n",
       "       [ 0.,  0.],\n",
       "       [ 0.,  0.],\n",
       "       [ 0.,  0.],\n",
       "       [ 0.,  0.],\n",
       "       [ 0.,  0.],\n",
       "       [ 0.,  0.],\n",
       "       [ 0.,  0.]])"
      ]
     },
     "execution_count": 47,
     "metadata": {},
     "output_type": "execute_result"
    }
   ],
   "source": [
    "stageWise(xArr,yArr,0.01,200)"
   ]
  },
  {
   "cell_type": "code",
   "execution_count": 48,
   "metadata": {
    "collapsed": true
   },
   "outputs": [],
   "source": [
    "from time import sleep\n",
    "import json\n",
    "import urllib2"
   ]
  },
  {
   "cell_type": "code",
   "execution_count": 49,
   "metadata": {
    "collapsed": true
   },
   "outputs": [],
   "source": [
    "def searchForSet(retX,retY,setNum,yr,numPce,origPrc):\n",
    "    sleep(10)\n",
    "    myAPIstr='get from code.google.com'\n",
    "    searchURL='https://www.googleapis.com/shopping/search/v1/public/products?key=%s&country=US&q=lego+%d&alt=json'%(myAPIstr,setNum)\n",
    "    pg=urllib2.urlopen(searchURL)\n",
    "    retDict=json.loads(pg.read())\n",
    "    for i in range(len(retDict['items'])):\n",
    "        try:\n",
    "            currItem=retDict['items'][i]\n",
    "            if currItem['product']['condition']=='new':\n",
    "                newFlag=1\n",
    "            else:\n",
    "                newFlag=0\n",
    "            listOfInv=currItem['product']['inventories']\n",
    "            for item in listOfInv:\n",
    "                sellingPrice=item['price']\n",
    "                if sellingPrice.origPrc*0.5:\n",
    "                    print \"%d\\t%d\\t%d\\t%f%t%f\"%(yr,numPce,newFlag,origPrc,sellingPrice)\n",
    "                    retX.append([yr,numPce,newFlag,origPrc])\n",
    "                    retY.append(sellingPrice)\n",
    "        except:\n",
    "            print 'problem with item %d'%i\n",
    "    "
   ]
  },
  {
   "cell_type": "code",
   "execution_count": 50,
   "metadata": {
    "collapsed": true
   },
   "outputs": [],
   "source": [
    "def setDataCollect(retX, retY):\n",
    "    searchForSet(retX, retY, 8288, 2006, 800, 49.99)\n",
    "    searchForSet(retX, retY, 10030, 2002, 3096, 269.99)\n",
    "    searchForSet(retX, retY, 10179, 2007, 5195, 499.99)\n",
    "    searchForSet(retX, retY, 10181, 2007, 3428, 199.99)\n",
    "    searchForSet(retX, retY, 10189, 2008, 5922, 299.99)\n",
    "    searchForSet(retX, retY, 10196, 2009, 3263, 249.99)"
   ]
  },
  {
   "cell_type": "code",
   "execution_count": null,
   "metadata": {
    "collapsed": true
   },
   "outputs": [],
   "source": [
    "def crossValidation(xArr,yArr,numVal=10):\n",
    "    m=len(yArr)\n",
    "    indexList=range(m)\n",
    "    errorMat=zeros((numVal,30))\n",
    "    for i in range(numVal):\n",
    "        trainX=[];trainY=[]\n",
    "        testX=[];testY=[]\n",
    "        random.shuffle(indexList)\n",
    "        for j in range(m):\n",
    "            if j<m*0.9:\n",
    "                trainX.append(xArr[indexList[j]])\n",
    "                trainY.append(yArr[indexList[j]])\n",
    "            else:\n",
    "                testX.append(xArr[indexList[j]])\n",
    "                testY.append(yArr[indexList[j]])\n",
    "        wMat=ridgeTest(trainX,trainY)\n",
    "        for k in range(30):\n",
    "            matTestX=mat(testX);matTrainX=mat(trainX)\n",
    "            meanTrain=mean(matTrainX,0)\n",
    "            varTrain=var(matTrainX,0)\n",
    "            matTestX=(matTestX-meanTrain)/varTrain\n",
    "            yEst=matTestX*mat(wMat[k,:]).T+mean(trainY)\n",
    "            errorMat[i,k]=rssError(yEst.T.A,array(testY))\n",
    "        meanErrors=mean(errorMat,0)\n",
    "        minMean=float(min(meanErrors))\n",
    "        bestWeights=wMat[nonzero(meanErrors==minMean)]\n",
    "        xMat=mat(xArr);yMat=mat(yArr).T\n",
    "        meanX=mean(xMat,0);varX=var(xMat,0)\n",
    "        unReg=bestWeights/varX\n",
    "        print \"the best model from Ridge Regression is:\\n\",unReg\n",
    "        print \"with constant term: \",-1*sum(multiply(meanX,unReg))+mean(yMat)\n",
    "        \n",
    "        "
   ]
  },
  {
   "cell_type": "code",
   "execution_count": null,
   "metadata": {
    "collapsed": true
   },
   "outputs": [],
   "source": []
  },
  {
   "cell_type": "code",
   "execution_count": null,
   "metadata": {
    "collapsed": true
   },
   "outputs": [],
   "source": []
  },
  {
   "cell_type": "code",
   "execution_count": null,
   "metadata": {
    "collapsed": true
   },
   "outputs": [],
   "source": []
  },
  {
   "cell_type": "code",
   "execution_count": null,
   "metadata": {
    "collapsed": true
   },
   "outputs": [],
   "source": []
  },
  {
   "cell_type": "code",
   "execution_count": null,
   "metadata": {
    "collapsed": true
   },
   "outputs": [],
   "source": []
  },
  {
   "cell_type": "code",
   "execution_count": null,
   "metadata": {
    "collapsed": true
   },
   "outputs": [],
   "source": []
  },
  {
   "cell_type": "code",
   "execution_count": null,
   "metadata": {
    "collapsed": true
   },
   "outputs": [],
   "source": []
  },
  {
   "cell_type": "code",
   "execution_count": null,
   "metadata": {
    "collapsed": true
   },
   "outputs": [],
   "source": []
  },
  {
   "cell_type": "code",
   "execution_count": null,
   "metadata": {
    "collapsed": true
   },
   "outputs": [],
   "source": []
  },
  {
   "cell_type": "code",
   "execution_count": null,
   "metadata": {
    "collapsed": true
   },
   "outputs": [],
   "source": []
  },
  {
   "cell_type": "code",
   "execution_count": null,
   "metadata": {
    "collapsed": true
   },
   "outputs": [],
   "source": []
  },
  {
   "cell_type": "code",
   "execution_count": null,
   "metadata": {
    "collapsed": true
   },
   "outputs": [],
   "source": []
  },
  {
   "cell_type": "code",
   "execution_count": null,
   "metadata": {
    "collapsed": true
   },
   "outputs": [],
   "source": []
  },
  {
   "cell_type": "code",
   "execution_count": null,
   "metadata": {
    "collapsed": true
   },
   "outputs": [],
   "source": []
  },
  {
   "cell_type": "code",
   "execution_count": null,
   "metadata": {
    "collapsed": true
   },
   "outputs": [],
   "source": []
  },
  {
   "cell_type": "code",
   "execution_count": null,
   "metadata": {
    "collapsed": true
   },
   "outputs": [],
   "source": []
  },
  {
   "cell_type": "code",
   "execution_count": null,
   "metadata": {
    "collapsed": true
   },
   "outputs": [],
   "source": []
  },
  {
   "cell_type": "code",
   "execution_count": null,
   "metadata": {
    "collapsed": true
   },
   "outputs": [],
   "source": []
  }
 ],
 "metadata": {
  "anaconda-cloud": {},
  "kernelspec": {
   "display_name": "Python [Root]",
   "language": "python",
   "name": "Python [Root]"
  },
  "language_info": {
   "codemirror_mode": {
    "name": "ipython",
    "version": 2
   },
   "file_extension": ".py",
   "mimetype": "text/x-python",
   "name": "python",
   "nbconvert_exporter": "python",
   "pygments_lexer": "ipython2",
   "version": "2.7.12"
  }
 },
 "nbformat": 4,
 "nbformat_minor": 0
}
