{
 "cells": [
  {
   "cell_type": "code",
   "execution_count": 1,
   "metadata": {
    "collapsed": true
   },
   "outputs": [],
   "source": [
    "def loadDataSet():\n",
    "    return [[1, 3, 4], [2, 3, 5], [1, 2, 3, 5], [2, 5]]"
   ]
  },
  {
   "cell_type": "code",
   "execution_count": 2,
   "metadata": {
    "collapsed": false
   },
   "outputs": [],
   "source": [
    "def createC1(dataSet):\n",
    "    C1=[]\n",
    "    for transaction in dataSet:\n",
    "        for item in transaction:\n",
    "            if not [item] in C1:\n",
    "                C1.append([item])\n",
    "    C1.sort()\n",
    "    return map(frozenset,C1)\n",
    "#Frozensets are sets that are frozen, which means they’re immutable; \n",
    "#you can’t change them. You need to use the type frozenset instead of set because you’ll later use these sets as the key in a dictionary; \n",
    "#you can do that with frozensets but not with sets"
   ]
  },
  {
   "cell_type": "code",
   "execution_count": 3,
   "metadata": {
    "collapsed": true
   },
   "outputs": [],
   "source": [
    "def scanD(D,Ck,minSupport):#D为dataset;Ck为 a list of candidate sets\n",
    "    ssCnt={}\n",
    "    for tid in D:#每一个transaction\n",
    "        for can in Ck:#每一个候选\n",
    "            if can.issubset(tid):\n",
    "                if not ssCnt.has_key(can):\n",
    "                    ssCnt[can]=1\n",
    "                else:\n",
    "                    ssCnt[can]+=1\n",
    "    numItems=float(len(D))\n",
    "    retList=[]\n",
    "    supportData={}\n",
    "    for key in ssCnt:\n",
    "        support=ssCnt[key]/numItems\n",
    "        if support >= minSupport:\n",
    "            retList.insert(0,key)\n",
    "        supportData[key]=support\n",
    "    return retList,supportData"
   ]
  },
  {
   "cell_type": "code",
   "execution_count": 4,
   "metadata": {
    "collapsed": true
   },
   "outputs": [],
   "source": [
    "def aprioriGen(Lk,k):\n",
    "    retList=[]\n",
    "    lenLk=len(Lk)\n",
    "    for i in range(lenLk):\n",
    "        for j in range(i+1,lenLk):\n",
    "            L1=list(Lk[i])[:k-2]\n",
    "            L2=list(Lk[j])[:k-2]\n",
    "            L1.sort()\n",
    "            L2.sort()\n",
    "            if L1==L2:\n",
    "                retList.append(Lk[i]|Lk[j])\n",
    "    return retList"
   ]
  },
  {
   "cell_type": "code",
   "execution_count": 5,
   "metadata": {
    "collapsed": true
   },
   "outputs": [],
   "source": [
    "def apriori(dataSet,minSupport=0.5):\n",
    "    C1=createC1(dataSet)\n",
    "    D=map(set,dataSet)\n",
    "    L1,supportData=scanD(D,C1,minSupport)\n",
    "    L=[L1]\n",
    "    k=2\n",
    "    while(len(L[k-2])>0):\n",
    "        Ck=aprioriGen(L[k-2],k)\n",
    "        Lk,supK=scanD(D,Ck,minSupport)\n",
    "        supportData.update(supK)#添加supK到supportData\n",
    "        L.append(Lk)\n",
    "        k+=1\n",
    "    return L,supportData"
   ]
  },
  {
   "cell_type": "code",
   "execution_count": 6,
   "metadata": {
    "collapsed": true
   },
   "outputs": [],
   "source": [
    "dataSet=loadDataSet()"
   ]
  },
  {
   "cell_type": "code",
   "execution_count": 7,
   "metadata": {
    "collapsed": false
   },
   "outputs": [
    {
     "data": {
      "text/plain": [
       "[[1, 3, 4], [2, 3, 5], [1, 2, 3, 5], [2, 5]]"
      ]
     },
     "execution_count": 7,
     "metadata": {},
     "output_type": "execute_result"
    }
   ],
   "source": [
    "dataSet"
   ]
  },
  {
   "cell_type": "code",
   "execution_count": 8,
   "metadata": {
    "collapsed": false
   },
   "outputs": [],
   "source": [
    "C1=createC1(dataSet)"
   ]
  },
  {
   "cell_type": "code",
   "execution_count": 9,
   "metadata": {
    "collapsed": true
   },
   "outputs": [],
   "source": [
    "D=map(set,dataSet)"
   ]
  },
  {
   "cell_type": "code",
   "execution_count": 10,
   "metadata": {
    "collapsed": false
   },
   "outputs": [
    {
     "data": {
      "text/plain": [
       "[{1, 3, 4}, {2, 3, 5}, {1, 2, 3, 5}, {2, 5}]"
      ]
     },
     "execution_count": 10,
     "metadata": {},
     "output_type": "execute_result"
    }
   ],
   "source": [
    "D"
   ]
  },
  {
   "cell_type": "code",
   "execution_count": 11,
   "metadata": {
    "collapsed": true
   },
   "outputs": [],
   "source": [
    "L1,suppData0=scanD(D,C1,0.5)"
   ]
  },
  {
   "cell_type": "code",
   "execution_count": 12,
   "metadata": {
    "collapsed": false
   },
   "outputs": [
    {
     "data": {
      "text/plain": [
       "[frozenset({1}), frozenset({3}), frozenset({2}), frozenset({5})]"
      ]
     },
     "execution_count": 12,
     "metadata": {},
     "output_type": "execute_result"
    }
   ],
   "source": [
    "L1"
   ]
  },
  {
   "cell_type": "code",
   "execution_count": 13,
   "metadata": {
    "collapsed": false
   },
   "outputs": [
    {
     "data": {
      "text/plain": [
       "{frozenset({4}): 0.25,\n",
       " frozenset({5}): 0.75,\n",
       " frozenset({2}): 0.75,\n",
       " frozenset({3}): 0.75,\n",
       " frozenset({1}): 0.5}"
      ]
     },
     "execution_count": 13,
     "metadata": {},
     "output_type": "execute_result"
    }
   ],
   "source": [
    "suppData0"
   ]
  },
  {
   "cell_type": "code",
   "execution_count": 14,
   "metadata": {
    "collapsed": false
   },
   "outputs": [],
   "source": [
    "L,suppData=apriori(dataSet)"
   ]
  },
  {
   "cell_type": "code",
   "execution_count": 15,
   "metadata": {
    "collapsed": false
   },
   "outputs": [
    {
     "data": {
      "text/plain": [
       "[[frozenset({1}), frozenset({3}), frozenset({2}), frozenset({5})],\n",
       " [frozenset({1, 3}), frozenset({2, 5}), frozenset({2, 3}), frozenset({3, 5})],\n",
       " [frozenset({2, 3, 5})],\n",
       " []]"
      ]
     },
     "execution_count": 15,
     "metadata": {},
     "output_type": "execute_result"
    }
   ],
   "source": [
    "L"
   ]
  },
  {
   "cell_type": "code",
   "execution_count": 16,
   "metadata": {
    "collapsed": false
   },
   "outputs": [
    {
     "data": {
      "text/plain": [
       "{frozenset({5}): 0.75,\n",
       " frozenset({3}): 0.75,\n",
       " frozenset({2, 3, 5}): 0.5,\n",
       " frozenset({1, 2}): 0.25,\n",
       " frozenset({1, 5}): 0.25,\n",
       " frozenset({3, 5}): 0.5,\n",
       " frozenset({4}): 0.25,\n",
       " frozenset({2, 3}): 0.5,\n",
       " frozenset({2, 5}): 0.75,\n",
       " frozenset({1}): 0.5,\n",
       " frozenset({1, 3}): 0.5,\n",
       " frozenset({2}): 0.75}"
      ]
     },
     "execution_count": 16,
     "metadata": {},
     "output_type": "execute_result"
    }
   ],
   "source": [
    "suppData"
   ]
  },
  {
   "cell_type": "code",
   "execution_count": 24,
   "metadata": {
    "collapsed": true
   },
   "outputs": [],
   "source": [
    "def calcConf(freqSet,H,supportData,brl,minConf=0.7):\n",
    "    prunedH=[]\n",
    "    for conseq in H:\n",
    "        conf=supportData[freqSet]/supportData[freqSet-conseq]\n",
    "        if conf>=minConf:\n",
    "            print freqSet-conseq,'-->',conseq,'conf:',conf\n",
    "            brl.append((freqSet-conseq,conseq,conf))\n",
    "            prunedH.append(conseq)\n",
    "    return prunedH"
   ]
  },
  {
   "cell_type": "code",
   "execution_count": 20,
   "metadata": {
    "collapsed": true
   },
   "outputs": [],
   "source": [
    "def rulesFromConseq(freqSet,H,supportData,brl,minConf=0.7):\n",
    "    m=len(H[0])\n",
    "    if (len(freqSet)>(m+1)):\n",
    "        Hmp1=aprioriGen(H,m+1)\n",
    "        Hmp1=calcConf(freqSet,Hmp1,supportData,brl,minConf)\n",
    "        if len(Hmp1)>1:\n",
    "            rulesFromConseq(freqSet,Hmp1,supportData,brl,minConf)"
   ]
  },
  {
   "cell_type": "code",
   "execution_count": 22,
   "metadata": {
    "collapsed": true
   },
   "outputs": [],
   "source": [
    "def generateRules(L,supportData,minConf=0.7):\n",
    "    bigRuleList=[]\n",
    "    for i in range(1,len(L)):\n",
    "        for freqSet in L[i]:\n",
    "            H1=[frozenset([item]) for item in freqSet]\n",
    "            if i>1:#可进一步合并\n",
    "                rulesFromConseq(freqSet,H1,supportData,bigRuleList,minConf)\n",
    "            else:#计算confidence\n",
    "                calcConf(freqSet,H1,supportData,bigRuleList,minConf)\n",
    "    return bigRuleList"
   ]
  },
  {
   "cell_type": "code",
   "execution_count": 26,
   "metadata": {
    "collapsed": false
   },
   "outputs": [
    {
     "name": "stdout",
     "output_type": "stream",
     "text": [
      "frozenset([1]) --> frozenset([3]) conf: 1.0\n",
      "frozenset([5]) --> frozenset([2]) conf: 1.0\n",
      "frozenset([2]) --> frozenset([5]) conf: 1.0\n"
     ]
    }
   ],
   "source": [
    "rules=generateRules(L,suppData,minConf=0.7)"
   ]
  },
  {
   "cell_type": "code",
   "execution_count": 27,
   "metadata": {
    "collapsed": false
   },
   "outputs": [
    {
     "name": "stdout",
     "output_type": "stream",
     "text": [
      "frozenset([3]) --> frozenset([1]) conf: 0.666666666667\n",
      "frozenset([1]) --> frozenset([3]) conf: 1.0\n",
      "frozenset([5]) --> frozenset([2]) conf: 1.0\n",
      "frozenset([2]) --> frozenset([5]) conf: 1.0\n",
      "frozenset([3]) --> frozenset([2]) conf: 0.666666666667\n",
      "frozenset([2]) --> frozenset([3]) conf: 0.666666666667\n",
      "frozenset([5]) --> frozenset([3]) conf: 0.666666666667\n",
      "frozenset([3]) --> frozenset([5]) conf: 0.666666666667\n",
      "frozenset([5]) --> frozenset([2, 3]) conf: 0.666666666667\n",
      "frozenset([3]) --> frozenset([2, 5]) conf: 0.666666666667\n",
      "frozenset([2]) --> frozenset([3, 5]) conf: 0.666666666667\n"
     ]
    }
   ],
   "source": [
    "rules=generateRules(L,suppData,minConf=0.5)"
   ]
  },
  {
   "cell_type": "code",
   "execution_count": 31,
   "metadata": {
    "collapsed": false
   },
   "outputs": [],
   "source": [
    "mushDatSet=[line.split() for line in open('mushroom.dat').readlines()]"
   ]
  },
  {
   "cell_type": "code",
   "execution_count": 35,
   "metadata": {
    "collapsed": false
   },
   "outputs": [
    {
     "data": {
      "text/plain": [
       "matrix([['1', '3', '9', ..., '98', '107', '113'],\n",
       "        ['2', '3', '9', ..., '99', '108', '114'],\n",
       "        ['2', '4', '9', ..., '99', '108', '115'],\n",
       "        ..., \n",
       "        ['2', '6', '9', ..., '106', '112', '119'],\n",
       "        ['1', '7', '10', ..., '102', '110', '119'],\n",
       "        ['2', '3', '9', ..., '104', '112', '119']], \n",
       "       dtype='|S3')"
      ]
     },
     "execution_count": 35,
     "metadata": {},
     "output_type": "execute_result"
    }
   ],
   "source": [
    "from numpy import *\n",
    "matrix(mushDatSet)"
   ]
  },
  {
   "cell_type": "code",
   "execution_count": 36,
   "metadata": {
    "collapsed": true
   },
   "outputs": [],
   "source": [
    "L,suppData=apriori(mushDatSet,minSupport=0.3)"
   ]
  },
  {
   "cell_type": "code",
   "execution_count": 39,
   "metadata": {
    "collapsed": false
   },
   "outputs": [
    {
     "name": "stdout",
     "output_type": "stream",
     "text": [
      "frozenset(['90', '2', '23'])\n",
      "frozenset(['39', '2', '53'])\n",
      "frozenset(['2', '59', '34'])\n",
      "frozenset(['2', '53', '85'])\n",
      "frozenset(['23', '2', '34'])\n",
      "frozenset(['2', '53', '34'])\n",
      "frozenset(['93', '2', '86'])\n",
      "frozenset(['39', '2', '59'])\n",
      "frozenset(['2', '59', '36'])\n",
      "frozenset(['39', '2', '36'])\n",
      "frozenset(['2', '28', '53'])\n",
      "frozenset(['86', '2', '59'])\n",
      "frozenset(['90', '2', '59'])\n",
      "frozenset(['2', '93', '63'])\n",
      "frozenset(['90', '39', '2'])\n",
      "frozenset(['39', '2', '93'])\n",
      "frozenset(['76', '2', '34'])\n",
      "frozenset(['39', '2', '85'])\n",
      "frozenset(['2', '85', '67'])\n",
      "frozenset(['63', '90', '2'])\n",
      "frozenset(['93', '2', '36'])\n",
      "frozenset(['2', '63', '34'])\n",
      "frozenset(['2', '86', '23'])\n",
      "frozenset(['2', '59', '23'])\n",
      "frozenset(['39', '2', '67'])\n",
      "frozenset(['63', '39', '2'])\n",
      "frozenset(['2', '28', '85'])\n",
      "frozenset(['28', '2', '59'])\n",
      "frozenset(['2', '63', '23'])\n",
      "frozenset(['2', '86', '53'])\n",
      "frozenset(['2', '63', '85'])\n",
      "frozenset(['2', '36', '34'])\n",
      "frozenset(['2', '86', '67'])\n",
      "frozenset(['28', '2', '86'])\n",
      "frozenset(['93', '2', '85'])\n",
      "frozenset(['2', '85', '34'])\n",
      "frozenset(['76', '2', '86'])\n",
      "frozenset(['2', '28', '34'])\n",
      "frozenset(['39', '2', '34'])\n",
      "frozenset(['2', '86', '85'])\n",
      "frozenset(['2', '63', '28'])\n",
      "frozenset(['2', '63', '36'])\n",
      "frozenset(['2', '63', '59'])\n",
      "frozenset(['90', '2', '86'])\n",
      "frozenset(['39', '2', '86'])\n",
      "frozenset(['90', '2', '36'])\n",
      "frozenset(['90', '2', '28'])\n",
      "frozenset(['2', '86', '34'])\n",
      "frozenset(['93', '2', '23'])\n",
      "frozenset(['76', '39', '2'])\n",
      "frozenset(['93', '2', '59'])\n",
      "frozenset(['2', '86', '36'])\n",
      "frozenset(['90', '2', '53'])\n",
      "frozenset(['76', '2', '85'])\n",
      "frozenset(['93', '2', '34'])\n",
      "frozenset(['2', '36', '23'])\n",
      "frozenset(['34', '2', '67'])\n",
      "frozenset(['90', '93', '2'])\n",
      "frozenset(['2', '85', '23'])\n",
      "frozenset(['90', '2', '85'])\n",
      "frozenset(['2', '63', '86'])\n",
      "frozenset(['39', '2', '28'])\n",
      "frozenset(['39', '2', '23'])\n",
      "frozenset(['2', '36', '85'])\n",
      "frozenset(['90', '2', '34'])\n",
      "frozenset(['2', '59', '85'])\n"
     ]
    }
   ],
   "source": [
    "for item in L[2]:\n",
    "    if item.intersection('2'):\n",
    "        print item"
   ]
  },
  {
   "cell_type": "code",
   "execution_count": null,
   "metadata": {
    "collapsed": true
   },
   "outputs": [],
   "source": []
  },
  {
   "cell_type": "code",
   "execution_count": null,
   "metadata": {
    "collapsed": true
   },
   "outputs": [],
   "source": []
  },
  {
   "cell_type": "code",
   "execution_count": null,
   "metadata": {
    "collapsed": true
   },
   "outputs": [],
   "source": []
  },
  {
   "cell_type": "code",
   "execution_count": null,
   "metadata": {
    "collapsed": true
   },
   "outputs": [],
   "source": []
  },
  {
   "cell_type": "code",
   "execution_count": null,
   "metadata": {
    "collapsed": true
   },
   "outputs": [],
   "source": []
  },
  {
   "cell_type": "code",
   "execution_count": null,
   "metadata": {
    "collapsed": true
   },
   "outputs": [],
   "source": []
  },
  {
   "cell_type": "code",
   "execution_count": null,
   "metadata": {
    "collapsed": true
   },
   "outputs": [],
   "source": []
  },
  {
   "cell_type": "code",
   "execution_count": null,
   "metadata": {
    "collapsed": true
   },
   "outputs": [],
   "source": []
  },
  {
   "cell_type": "code",
   "execution_count": null,
   "metadata": {
    "collapsed": true
   },
   "outputs": [],
   "source": []
  },
  {
   "cell_type": "code",
   "execution_count": null,
   "metadata": {
    "collapsed": true
   },
   "outputs": [],
   "source": []
  },
  {
   "cell_type": "code",
   "execution_count": null,
   "metadata": {
    "collapsed": true
   },
   "outputs": [],
   "source": []
  },
  {
   "cell_type": "code",
   "execution_count": null,
   "metadata": {
    "collapsed": true
   },
   "outputs": [],
   "source": []
  }
 ],
 "metadata": {
  "anaconda-cloud": {},
  "kernelspec": {
   "display_name": "Python [Root]",
   "language": "python",
   "name": "Python [Root]"
  },
  "language_info": {
   "codemirror_mode": {
    "name": "ipython",
    "version": 2
   },
   "file_extension": ".py",
   "mimetype": "text/x-python",
   "name": "python",
   "nbconvert_exporter": "python",
   "pygments_lexer": "ipython2",
   "version": "2.7.12"
  }
 },
 "nbformat": 4,
 "nbformat_minor": 0
}
