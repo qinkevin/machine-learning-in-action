{
 "cells": [
  {
   "cell_type": "code",
   "execution_count": 18,
   "metadata": {
    "collapsed": true
   },
   "outputs": [],
   "source": [
    "import numpy\n",
    "from numpy import *"
   ]
  },
  {
   "cell_type": "code",
   "execution_count": 19,
   "metadata": {
    "collapsed": true
   },
   "outputs": [],
   "source": [
    "def loadDataSet(fileName):\n",
    "    dataMat=[];labelMat=[]\n",
    "    fr=open(fileName)\n",
    "    for line in fr.readlines():\n",
    "        lineArr=line.strip().split('\\t')\n",
    "        dataMat.append([float(lineArr[0]),float(lineArr[1])])\n",
    "        labelMat.append(float(lineArr[2]))\n",
    "    return dataMat,labelMat"
   ]
  },
  {
   "cell_type": "code",
   "execution_count": 20,
   "metadata": {
    "collapsed": true
   },
   "outputs": [],
   "source": [
    "def selectJrand(i,m):# i is the index of our first alpha,m is the total number of alphas\n",
    "    j=i\n",
    "    while(j==i):#A value is randomly chosen and returned as long as it's not equal to the input i\n",
    "        j=int(random.uniform(0,m))\n",
    "    return j"
   ]
  },
  {
   "cell_type": "code",
   "execution_count": 21,
   "metadata": {
    "collapsed": true
   },
   "outputs": [],
   "source": [
    "def clipAlpha(aj,H,L):#clips alpha values that are greater than H or less than L\n",
    "    if aj>H:\n",
    "        aj=H\n",
    "    if L>aj:\n",
    "        aj=L\n",
    "    return aj"
   ]
  },
  {
   "cell_type": "code",
   "execution_count": 28,
   "metadata": {
    "collapsed": true
   },
   "outputs": [],
   "source": [
    "def smoSimple(dataMatIn,classLabels,C,toler,maxIter):#the dataset, the class labels, a constant C, the tolerance,the maximum number of iterations\n",
    "    dataMatrix=mat(dataMatIn);labelMat=mat(classLabels).transpose()#This makes the row of the class labels correspond to the row of the data matrix\n",
    "    b=0;m,n=shape(dataMatrix)\n",
    "    alphas=mat(zeros((m,1)))\n",
    "    iter=0\n",
    "    while(iter<maxIter):\n",
    "        alphaPairsChanged=0#record if the attempt to optimize any alphas worked\n",
    "        for i in range(m):\n",
    "            fXi=float(multiply(alphas,labelMat).T*(dataMatrix*dataMatrix[i,:].T))+b#this is our prediction of the class\n",
    "            Ei=fXi-float(labelMat[i])\n",
    "            #Alphas will be clipped at 0 or C, so if they’re equal to these, they’re “bound” and can’t be increased or decreased, so it’s not worth trying to optimize these alphas.\n",
    "            if ((labelMat[i]*Ei<-toler) and (alphas[i]<C)) or ((labelMat[i]*Ei>toler) and (alphas[i]>0)):##若alphas[i]的误差很大,则对该数据实例对应的alpha值进行优化  \n",
    "                j=selectJrand(i,m)#选取与i不同的alpha值  \n",
    "                #计算样本j的预测类别 \n",
    "                fXj=float(multiply(alphas,labelMat).T*(dataMatrix*dataMatrix[j,:].T))+b\n",
    "                Ej=fXj-float(labelMat[j])\n",
    "                #由于python是通过引用的方式传递列表,故复制alphai\\j以备后面需要alpha旧值\n",
    "                alphaIold=alphas[i].copy()\n",
    "                alphaJold=alphas[j].copy()\n",
    "                #计算L和H,用于将alpha值调整到0-C之间 \n",
    "                if labelMat[i]!=labelMat[j]:\n",
    "                    L=max(0,alphas[j]-alphas[i])\n",
    "                    H=min(C,C+alphas[j]-alphas[i])\n",
    "                else:\n",
    "                    L=max(0,alphas[j]+alphas[i]-C)\n",
    "                    H=min(C,alphas[j]+alphas[i])\n",
    "                if L==H:\n",
    "                    print \"L==H\";continue\n",
    "                #Eta is the optimal amount to change alpha[j]\n",
    "                eta=2.0*dataMatrix[i,:]*dataMatrix[j,:].T-dataMatrix[i,:]*dataMatrix[i,:].T-dataMatrix[j,:]*dataMatrix[j,:].T\n",
    "                if eta>=0:\n",
    "                    print \"eta>=0\";continue\n",
    "                alphas[j]-=labelMat[j]*(Ei-Ej)/eta\n",
    "                alphas[j]=clipAlpha(alphas[j],H,L)\n",
    "                if(abs(alphas[j]-alphaJold)<0.00001):\n",
    "                    print \"j not moving enough\";continue\n",
    "                alphas[i]+=labelMat[j]*labelMat[i]*(alphaJold-alphas[j])\n",
    "                #set the constant term b for these two alphas\n",
    "                b1=b-Ei-labelMat[i]*(alphas[i]-alphaIold)*dataMatrix[i,:]*dataMatrix[i,:].T-labelMat[j]*(alphas[j]-alphaJold)*dataMatrix[i,:]*dataMatrix[j,:].T\n",
    "                b2=b-Ej-labelMat[i]*(alphas[i]-alphaIold)*dataMatrix[i,:]*dataMatrix[j,:].T-labelMat[j]*(alphas[j]-alphaJold)*dataMatrix[j,:]*dataMatrix[j,:].T\n",
    "                if 0<alphas[i] and C>alphas[i]:\n",
    "                    b=b1\n",
    "                elif 0<alphas[j] and C>alphas[j]:\n",
    "                    b=b2\n",
    "                else:\n",
    "                    b=(b1+b2)/2.0\n",
    "                alphaPairsChanged+=1\n",
    "                print \"iter: %d i: %d, pairs changed %d\" %(iter,i,alphaPairsChanged)\n",
    "            #check to see if any alphas have been updated; if so you set iter to 0 and continue\n",
    "            if alphaPairsChanged==0:\n",
    "                iter+=1\n",
    "            else:\n",
    "                iter=0\n",
    "            print \"iteration number:%d\"%iter\n",
    "        return b,alphas"
   ]
  },
  {
   "cell_type": "code",
   "execution_count": 29,
   "metadata": {
    "collapsed": true
   },
   "outputs": [],
   "source": [
    "dataArr,labelArr=loadDataSet('testSet.txt')"
   ]
  },
  {
   "cell_type": "code",
   "execution_count": null,
   "metadata": {
    "collapsed": true
   },
   "outputs": [],
   "source": []
  }
 ],
 "metadata": {
  "kernelspec": {
   "display_name": "Python [Root]",
   "language": "python",
   "name": "Python [Root]"
  },
  "language_info": {
   "codemirror_mode": {
    "name": "ipython",
    "version": 2
   },
   "file_extension": ".py",
   "mimetype": "text/x-python",
   "name": "python",
   "nbconvert_exporter": "python",
   "pygments_lexer": "ipython2",
   "version": "2.7.12"
  }
 },
 "nbformat": 4,
 "nbformat_minor": 0
}
